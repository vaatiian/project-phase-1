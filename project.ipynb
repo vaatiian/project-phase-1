{
 "cells": [
  {
   "cell_type": "markdown",
   "metadata": {},
   "source": [
    "# EXPLORATORY DATA ANALYSIS FOR MOVIE INDUSTRY."
   ]
  },
  {
   "cell_type": "markdown",
   "metadata": {},
   "source": [
    "## OVERVIEW.\n",
    "Microsoft plans to start a new film production company, but lacks experience. The goal is to determine box office success and use this information to select movies for the CEO's new company.\n",
    "\n",
    "This notebook contains curated datasets (also attached in .csv form) and code to reproduce all my analyses and figures.\n"
   ]
  },
  {
   "cell_type": "code",
   "execution_count": 1,
   "metadata": {},
   "outputs": [],
   "source": [
    "# import all the necessary libraries\n",
    "import pandas as pd\n",
    "import numpy as np \n",
    "import matplotlib.pyplot as plt \n",
    "import seaborn as sns \n",
    "import sqlite3\n",
    "\n",
    "%matplotlib inline\n",
    "\n",
    "# create a connection to an sqlite database\n",
    "con = sqlite3.connect(\"movies_data.db\")"
   ]
  },
  {
   "cell_type": "markdown",
   "metadata": {},
   "source": [
    "# LOAD THE NECESSARY DATASETS"
   ]
  },
  {
   "cell_type": "code",
   "execution_count": 50,
   "metadata": {},
   "outputs": [
    {
     "data": {
      "text/html": [
       "<div>\n",
       "<style scoped>\n",
       "    .dataframe tbody tr th:only-of-type {\n",
       "        vertical-align: middle;\n",
       "    }\n",
       "\n",
       "    .dataframe tbody tr th {\n",
       "        vertical-align: top;\n",
       "    }\n",
       "\n",
       "    .dataframe thead th {\n",
       "        text-align: right;\n",
       "    }\n",
       "</style>\n",
       "<table border=\"1\" class=\"dataframe\">\n",
       "  <thead>\n",
       "    <tr style=\"text-align: right;\">\n",
       "      <th></th>\n",
       "      <th>tconst</th>\n",
       "      <th>primary_title</th>\n",
       "      <th>original_title</th>\n",
       "      <th>start_year</th>\n",
       "      <th>runtime_minutes</th>\n",
       "      <th>genres</th>\n",
       "    </tr>\n",
       "  </thead>\n",
       "  <tbody>\n",
       "    <tr>\n",
       "      <th>0</th>\n",
       "      <td>tt0063540</td>\n",
       "      <td>Sunghursh</td>\n",
       "      <td>Sunghursh</td>\n",
       "      <td>2013</td>\n",
       "      <td>175.00</td>\n",
       "      <td>Action,Crime,Drama</td>\n",
       "    </tr>\n",
       "    <tr>\n",
       "      <th>1</th>\n",
       "      <td>tt0066787</td>\n",
       "      <td>One Day Before the Rainy Season</td>\n",
       "      <td>Ashad Ka Ek Din</td>\n",
       "      <td>2019</td>\n",
       "      <td>114.00</td>\n",
       "      <td>Biography,Drama</td>\n",
       "    </tr>\n",
       "    <tr>\n",
       "      <th>2</th>\n",
       "      <td>tt0069049</td>\n",
       "      <td>The Other Side of the Wind</td>\n",
       "      <td>The Other Side of the Wind</td>\n",
       "      <td>2018</td>\n",
       "      <td>122.00</td>\n",
       "      <td>Drama</td>\n",
       "    </tr>\n",
       "    <tr>\n",
       "      <th>3</th>\n",
       "      <td>tt0069204</td>\n",
       "      <td>Sabse Bada Sukh</td>\n",
       "      <td>Sabse Bada Sukh</td>\n",
       "      <td>2018</td>\n",
       "      <td>nan</td>\n",
       "      <td>Comedy,Drama</td>\n",
       "    </tr>\n",
       "    <tr>\n",
       "      <th>4</th>\n",
       "      <td>tt0100275</td>\n",
       "      <td>The Wandering Soap Opera</td>\n",
       "      <td>La Telenovela Errante</td>\n",
       "      <td>2017</td>\n",
       "      <td>80.00</td>\n",
       "      <td>Comedy,Drama,Fantasy</td>\n",
       "    </tr>\n",
       "  </tbody>\n",
       "</table>\n",
       "</div>"
      ],
      "text/plain": [
       "      tconst                    primary_title              original_title  \\\n",
       "0  tt0063540                        Sunghursh                   Sunghursh   \n",
       "1  tt0066787  One Day Before the Rainy Season             Ashad Ka Ek Din   \n",
       "2  tt0069049       The Other Side of the Wind  The Other Side of the Wind   \n",
       "3  tt0069204                  Sabse Bada Sukh             Sabse Bada Sukh   \n",
       "4  tt0100275         The Wandering Soap Opera       La Telenovela Errante   \n",
       "\n",
       "   start_year  runtime_minutes                genres  \n",
       "0        2013           175.00    Action,Crime,Drama  \n",
       "1        2019           114.00       Biography,Drama  \n",
       "2        2018           122.00                 Drama  \n",
       "3        2018              nan          Comedy,Drama  \n",
       "4        2017            80.00  Comedy,Drama,Fantasy  "
      ]
     },
     "execution_count": 50,
     "metadata": {},
     "output_type": "execute_result"
    }
   ],
   "source": [
    "# Load the movie details dataset\n",
    "imdb_movies_df = pd.read_csv(\"C:\\\\Users\\\\User\\\\Documents\\\\Flatiron\\\\phase_1_project\\\\data\\\\imdb.title.basics.csv.gz\")\n",
    "imdb_movies_df.head()"
   ]
  },
  {
   "cell_type": "code",
   "execution_count": 51,
   "metadata": {},
   "outputs": [
    {
     "data": {
      "text/html": [
       "<div>\n",
       "<style scoped>\n",
       "    .dataframe tbody tr th:only-of-type {\n",
       "        vertical-align: middle;\n",
       "    }\n",
       "\n",
       "    .dataframe tbody tr th {\n",
       "        vertical-align: top;\n",
       "    }\n",
       "\n",
       "    .dataframe thead th {\n",
       "        text-align: right;\n",
       "    }\n",
       "</style>\n",
       "<table border=\"1\" class=\"dataframe\">\n",
       "  <thead>\n",
       "    <tr style=\"text-align: right;\">\n",
       "      <th></th>\n",
       "      <th>tconst</th>\n",
       "      <th>averagerating</th>\n",
       "      <th>numvotes</th>\n",
       "    </tr>\n",
       "  </thead>\n",
       "  <tbody>\n",
       "    <tr>\n",
       "      <th>0</th>\n",
       "      <td>tt10356526</td>\n",
       "      <td>8.30</td>\n",
       "      <td>31</td>\n",
       "    </tr>\n",
       "    <tr>\n",
       "      <th>1</th>\n",
       "      <td>tt10384606</td>\n",
       "      <td>8.90</td>\n",
       "      <td>559</td>\n",
       "    </tr>\n",
       "    <tr>\n",
       "      <th>2</th>\n",
       "      <td>tt1042974</td>\n",
       "      <td>6.40</td>\n",
       "      <td>20</td>\n",
       "    </tr>\n",
       "    <tr>\n",
       "      <th>3</th>\n",
       "      <td>tt1043726</td>\n",
       "      <td>4.20</td>\n",
       "      <td>50352</td>\n",
       "    </tr>\n",
       "    <tr>\n",
       "      <th>4</th>\n",
       "      <td>tt1060240</td>\n",
       "      <td>6.50</td>\n",
       "      <td>21</td>\n",
       "    </tr>\n",
       "  </tbody>\n",
       "</table>\n",
       "</div>"
      ],
      "text/plain": [
       "       tconst  averagerating  numvotes\n",
       "0  tt10356526           8.30        31\n",
       "1  tt10384606           8.90       559\n",
       "2   tt1042974           6.40        20\n",
       "3   tt1043726           4.20     50352\n",
       "4   tt1060240           6.50        21"
      ]
     },
     "execution_count": 51,
     "metadata": {},
     "output_type": "execute_result"
    }
   ],
   "source": [
    "# Load the title ratings data\n",
    "imdb_title_rating_df = pd.read_csv(\"C:\\\\Users\\\\User\\\\Documents\\\\Flatiron\\\\phase_1_project\\\\data\\\\imdb.title.ratings.csv.gz\")\n",
    "imdb_title_rating_df.head()"
   ]
  },
  {
   "cell_type": "code",
   "execution_count": 52,
   "metadata": {},
   "outputs": [
    {
     "data": {
      "text/html": [
       "<div>\n",
       "<style scoped>\n",
       "    .dataframe tbody tr th:only-of-type {\n",
       "        vertical-align: middle;\n",
       "    }\n",
       "\n",
       "    .dataframe tbody tr th {\n",
       "        vertical-align: top;\n",
       "    }\n",
       "\n",
       "    .dataframe thead th {\n",
       "        text-align: right;\n",
       "    }\n",
       "</style>\n",
       "<table border=\"1\" class=\"dataframe\">\n",
       "  <thead>\n",
       "    <tr style=\"text-align: right;\">\n",
       "      <th></th>\n",
       "      <th>id</th>\n",
       "      <th>release_date</th>\n",
       "      <th>movie</th>\n",
       "      <th>production_budget</th>\n",
       "      <th>domestic_gross</th>\n",
       "      <th>worldwide_gross</th>\n",
       "    </tr>\n",
       "  </thead>\n",
       "  <tbody>\n",
       "    <tr>\n",
       "      <th>0</th>\n",
       "      <td>1</td>\n",
       "      <td>Dec 18, 2009</td>\n",
       "      <td>Avatar</td>\n",
       "      <td>$425,000,000</td>\n",
       "      <td>$760,507,625</td>\n",
       "      <td>$2,776,345,279</td>\n",
       "    </tr>\n",
       "    <tr>\n",
       "      <th>1</th>\n",
       "      <td>2</td>\n",
       "      <td>May 20, 2011</td>\n",
       "      <td>Pirates of the Caribbean: On Stranger Tides</td>\n",
       "      <td>$410,600,000</td>\n",
       "      <td>$241,063,875</td>\n",
       "      <td>$1,045,663,875</td>\n",
       "    </tr>\n",
       "    <tr>\n",
       "      <th>2</th>\n",
       "      <td>3</td>\n",
       "      <td>Jun 7, 2019</td>\n",
       "      <td>Dark Phoenix</td>\n",
       "      <td>$350,000,000</td>\n",
       "      <td>$42,762,350</td>\n",
       "      <td>$149,762,350</td>\n",
       "    </tr>\n",
       "    <tr>\n",
       "      <th>3</th>\n",
       "      <td>4</td>\n",
       "      <td>May 1, 2015</td>\n",
       "      <td>Avengers: Age of Ultron</td>\n",
       "      <td>$330,600,000</td>\n",
       "      <td>$459,005,868</td>\n",
       "      <td>$1,403,013,963</td>\n",
       "    </tr>\n",
       "    <tr>\n",
       "      <th>4</th>\n",
       "      <td>5</td>\n",
       "      <td>Dec 15, 2017</td>\n",
       "      <td>Star Wars Ep. VIII: The Last Jedi</td>\n",
       "      <td>$317,000,000</td>\n",
       "      <td>$620,181,382</td>\n",
       "      <td>$1,316,721,747</td>\n",
       "    </tr>\n",
       "  </tbody>\n",
       "</table>\n",
       "</div>"
      ],
      "text/plain": [
       "   id  release_date                                        movie  \\\n",
       "0   1  Dec 18, 2009                                       Avatar   \n",
       "1   2  May 20, 2011  Pirates of the Caribbean: On Stranger Tides   \n",
       "2   3   Jun 7, 2019                                 Dark Phoenix   \n",
       "3   4   May 1, 2015                      Avengers: Age of Ultron   \n",
       "4   5  Dec 15, 2017            Star Wars Ep. VIII: The Last Jedi   \n",
       "\n",
       "  production_budget domestic_gross worldwide_gross  \n",
       "0      $425,000,000   $760,507,625  $2,776,345,279  \n",
       "1      $410,600,000   $241,063,875  $1,045,663,875  \n",
       "2      $350,000,000    $42,762,350    $149,762,350  \n",
       "3      $330,600,000   $459,005,868  $1,403,013,963  \n",
       "4      $317,000,000   $620,181,382  $1,316,721,747  "
      ]
     },
     "execution_count": 52,
     "metadata": {},
     "output_type": "execute_result"
    }
   ],
   "source": [
    "# Load the numbers data\n",
    "tn_movies_df = pd.read_csv(\"C:\\\\Users\\\\User\\\\Documents\\\\Flatiron\\\\phase_1_project\\\\data\\\\tn.movie_budgets.csv.gz\")\n",
    "tn_movies_df.head()"
   ]
  },
  {
   "cell_type": "markdown",
   "metadata": {},
   "source": [
    "## CHECKING THE DATASETS"
   ]
  },
  {
   "cell_type": "code",
   "execution_count": 5,
   "metadata": {},
   "outputs": [
    {
     "name": "stdout",
     "output_type": "stream",
     "text": [
      "<class 'pandas.core.frame.DataFrame'>\n",
      "RangeIndex: 146144 entries, 0 to 146143\n",
      "Data columns (total 6 columns):\n",
      " #   Column           Non-Null Count   Dtype  \n",
      "---  ------           --------------   -----  \n",
      " 0   tconst           146144 non-null  object \n",
      " 1   primary_title    146144 non-null  object \n",
      " 2   original_title   146123 non-null  object \n",
      " 3   start_year       146144 non-null  int64  \n",
      " 4   runtime_minutes  114405 non-null  float64\n",
      " 5   genres           140736 non-null  object \n",
      "dtypes: float64(1), int64(1), object(4)\n",
      "memory usage: 6.7+ MB\n"
     ]
    }
   ],
   "source": [
    "# checkout the imdb_movies_df\n",
    "imdb_movies_df.info()"
   ]
  },
  {
   "cell_type": "code",
   "execution_count": 6,
   "metadata": {},
   "outputs": [
    {
     "data": {
      "text/plain": [
       "'The dataset has 146144 entries and 6 columns with missing data in the following column:\\nruntime_minutes, genres and original_title'"
      ]
     },
     "execution_count": 6,
     "metadata": {},
     "output_type": "execute_result"
    }
   ],
   "source": [
    "\"\"\"The dataset has 146144 entries and 6 columns with missing data in the following column:\n",
    "runtime_minutes, genres and original_title\"\"\""
   ]
  },
  {
   "cell_type": "code",
   "execution_count": 7,
   "metadata": {},
   "outputs": [
    {
     "data": {
      "text/html": [
       "<div>\n",
       "<style scoped>\n",
       "    .dataframe tbody tr th:only-of-type {\n",
       "        vertical-align: middle;\n",
       "    }\n",
       "\n",
       "    .dataframe tbody tr th {\n",
       "        vertical-align: top;\n",
       "    }\n",
       "\n",
       "    .dataframe thead th {\n",
       "        text-align: right;\n",
       "    }\n",
       "</style>\n",
       "<table border=\"1\" class=\"dataframe\">\n",
       "  <thead>\n",
       "    <tr style=\"text-align: right;\">\n",
       "      <th></th>\n",
       "      <th>start_year</th>\n",
       "      <th>runtime_minutes</th>\n",
       "    </tr>\n",
       "  </thead>\n",
       "  <tbody>\n",
       "    <tr>\n",
       "      <th>count</th>\n",
       "      <td>146144.000000</td>\n",
       "      <td>114405.000000</td>\n",
       "    </tr>\n",
       "    <tr>\n",
       "      <th>mean</th>\n",
       "      <td>2014.621798</td>\n",
       "      <td>86.187247</td>\n",
       "    </tr>\n",
       "    <tr>\n",
       "      <th>std</th>\n",
       "      <td>2.733583</td>\n",
       "      <td>166.360590</td>\n",
       "    </tr>\n",
       "    <tr>\n",
       "      <th>min</th>\n",
       "      <td>2010.000000</td>\n",
       "      <td>1.000000</td>\n",
       "    </tr>\n",
       "    <tr>\n",
       "      <th>25%</th>\n",
       "      <td>2012.000000</td>\n",
       "      <td>70.000000</td>\n",
       "    </tr>\n",
       "    <tr>\n",
       "      <th>50%</th>\n",
       "      <td>2015.000000</td>\n",
       "      <td>87.000000</td>\n",
       "    </tr>\n",
       "    <tr>\n",
       "      <th>75%</th>\n",
       "      <td>2017.000000</td>\n",
       "      <td>99.000000</td>\n",
       "    </tr>\n",
       "    <tr>\n",
       "      <th>max</th>\n",
       "      <td>2115.000000</td>\n",
       "      <td>51420.000000</td>\n",
       "    </tr>\n",
       "  </tbody>\n",
       "</table>\n",
       "</div>"
      ],
      "text/plain": [
       "          start_year  runtime_minutes\n",
       "count  146144.000000    114405.000000\n",
       "mean     2014.621798        86.187247\n",
       "std         2.733583       166.360590\n",
       "min      2010.000000         1.000000\n",
       "25%      2012.000000        70.000000\n",
       "50%      2015.000000        87.000000\n",
       "75%      2017.000000        99.000000\n",
       "max      2115.000000     51420.000000"
      ]
     },
     "execution_count": 7,
     "metadata": {},
     "output_type": "execute_result"
    }
   ],
   "source": [
    "imdb_movies_df.describe()"
   ]
  },
  {
   "cell_type": "code",
   "execution_count": 8,
   "metadata": {},
   "outputs": [
    {
     "name": "stdout",
     "output_type": "stream",
     "text": [
      "<class 'pandas.core.frame.DataFrame'>\n",
      "RangeIndex: 73856 entries, 0 to 73855\n",
      "Data columns (total 3 columns):\n",
      " #   Column         Non-Null Count  Dtype  \n",
      "---  ------         --------------  -----  \n",
      " 0   tconst         73856 non-null  object \n",
      " 1   averagerating  73856 non-null  float64\n",
      " 2   numvotes       73856 non-null  int64  \n",
      "dtypes: float64(1), int64(1), object(1)\n",
      "memory usage: 1.7+ MB\n"
     ]
    }
   ],
   "source": [
    "# checkout the imdb_title_rating_df\n",
    "imdb_title_rating_df.info()"
   ]
  },
  {
   "cell_type": "code",
   "execution_count": 9,
   "metadata": {},
   "outputs": [
    {
     "data": {
      "text/plain": [
       "'The data set has 73856 entries and 3 columns and has no missing entries'"
      ]
     },
     "execution_count": 9,
     "metadata": {},
     "output_type": "execute_result"
    }
   ],
   "source": [
    "\"\"\"The data set has 73856 entries and 3 columns and has no missing entries\"\"\""
   ]
  },
  {
   "cell_type": "code",
   "execution_count": 10,
   "metadata": {},
   "outputs": [
    {
     "name": "stdout",
     "output_type": "stream",
     "text": [
      "<class 'pandas.core.frame.DataFrame'>\n",
      "RangeIndex: 5782 entries, 0 to 5781\n",
      "Data columns (total 6 columns):\n",
      " #   Column             Non-Null Count  Dtype \n",
      "---  ------             --------------  ----- \n",
      " 0   id                 5782 non-null   int64 \n",
      " 1   release_date       5782 non-null   object\n",
      " 2   movie              5782 non-null   object\n",
      " 3   production_budget  5782 non-null   object\n",
      " 4   domestic_gross     5782 non-null   object\n",
      " 5   worldwide_gross    5782 non-null   object\n",
      "dtypes: int64(1), object(5)\n",
      "memory usage: 271.2+ KB\n"
     ]
    }
   ],
   "source": [
    "# checkout the tn_movies_df\n",
    "tn_movies_df.info()"
   ]
  },
  {
   "cell_type": "code",
   "execution_count": 11,
   "metadata": {},
   "outputs": [
    {
     "data": {
      "text/plain": [
       "'The dataset has 5782 entries and 6 columns with no missing entries.'"
      ]
     },
     "execution_count": 11,
     "metadata": {},
     "output_type": "execute_result"
    }
   ],
   "source": [
    "\"\"\"The dataset has 5782 entries and 6 columns with no missing entries.\"\"\""
   ]
  },
  {
   "cell_type": "markdown",
   "metadata": {},
   "source": [
    "# DATA CLEANING"
   ]
  },
  {
   "cell_type": "markdown",
   "metadata": {},
   "source": [
    "# Dealing With Missing Data\n",
    "I will use a function to perform my task"
   ]
  },
  {
   "cell_type": "code",
   "execution_count": 12,
   "metadata": {},
   "outputs": [],
   "source": [
    "def missing_values(data):\n",
    "    # identify the total missing values per column\n",
    "    # sort in order\n",
    "    miss = data.isnull().sum().sort_values(ascending = False)\n",
    "\n",
    "    # calculate percentage of the missing values\n",
    "    percentage_miss = (data.isnull().sum() / len(data)).sort_values(ascending = False)\n",
    "\n",
    "    # store in a dataframe\n",
    "    missing = pd.DataFrame({\"Missing Values\": miss, \"Percentage\": percentage_miss}).reset_index()\n",
    "\n",
    "    # remove values that are missing\n",
    "    missing.drop(missing[missing[\"Percentage\"] == 0].index, inplace = True)\n",
    "\n",
    "    return missing\n",
    "\n"
   ]
  },
  {
   "cell_type": "markdown",
   "metadata": {},
   "source": [
    "## FOR imdb_movies_df;"
   ]
  },
  {
   "cell_type": "code",
   "execution_count": 13,
   "metadata": {},
   "outputs": [
    {
     "data": {
      "text/html": [
       "<div>\n",
       "<style scoped>\n",
       "    .dataframe tbody tr th:only-of-type {\n",
       "        vertical-align: middle;\n",
       "    }\n",
       "\n",
       "    .dataframe tbody tr th {\n",
       "        vertical-align: top;\n",
       "    }\n",
       "\n",
       "    .dataframe thead th {\n",
       "        text-align: right;\n",
       "    }\n",
       "</style>\n",
       "<table border=\"1\" class=\"dataframe\">\n",
       "  <thead>\n",
       "    <tr style=\"text-align: right;\">\n",
       "      <th></th>\n",
       "      <th>index</th>\n",
       "      <th>Missing Values</th>\n",
       "      <th>Percentage</th>\n",
       "    </tr>\n",
       "  </thead>\n",
       "  <tbody>\n",
       "    <tr>\n",
       "      <th>0</th>\n",
       "      <td>runtime_minutes</td>\n",
       "      <td>31739</td>\n",
       "      <td>0.217176</td>\n",
       "    </tr>\n",
       "    <tr>\n",
       "      <th>1</th>\n",
       "      <td>genres</td>\n",
       "      <td>5408</td>\n",
       "      <td>0.037005</td>\n",
       "    </tr>\n",
       "    <tr>\n",
       "      <th>2</th>\n",
       "      <td>original_title</td>\n",
       "      <td>21</td>\n",
       "      <td>0.000144</td>\n",
       "    </tr>\n",
       "  </tbody>\n",
       "</table>\n",
       "</div>"
      ],
      "text/plain": [
       "             index  Missing Values  Percentage\n",
       "0  runtime_minutes           31739    0.217176\n",
       "1           genres            5408    0.037005\n",
       "2   original_title              21    0.000144"
      ]
     },
     "execution_count": 13,
     "metadata": {},
     "output_type": "execute_result"
    }
   ],
   "source": [
    "#  Check out the missing data in imdb_movies_df\n",
    "missing_values(imdb_movies_df)"
   ]
  },
  {
   "cell_type": "code",
   "execution_count": 14,
   "metadata": {},
   "outputs": [
    {
     "data": {
      "text/plain": [
       "'The dataframe imdb_movies_df has missing data in columns; runtime_minutes, genres, and original_title\\nwith percentages of; 21%, 3% and 0.01%'"
      ]
     },
     "execution_count": 14,
     "metadata": {},
     "output_type": "execute_result"
    }
   ],
   "source": [
    "\"\"\"The dataframe imdb_movies_df has missing data in columns; runtime_minutes, genres, and original_title\n",
    "with percentages of; 21%, 3% and 0.01%\"\"\""
   ]
  },
  {
   "cell_type": "markdown",
   "metadata": {},
   "source": [
    "For this dataframe I will fill the runtime_minutes column, and drop the rows with missing values in genres and original_title columns.\n"
   ]
  },
  {
   "cell_type": "code",
   "execution_count": 15,
   "metadata": {},
   "outputs": [],
   "source": [
    "# fill the missing data in runtime_minutes column\n",
    "# first get the mode of the column\n",
    "most_frequent_time = imdb_movies_df['runtime_minutes'].mode()[0]\n",
    "\n",
    "# then fill the missing values with most_frequent_time\n",
    "imdb_movies_df['runtime_minutes'].fillna(most_frequent_time, inplace= True)"
   ]
  },
  {
   "cell_type": "code",
   "execution_count": 16,
   "metadata": {},
   "outputs": [],
   "source": [
    "# dropping the rows with missing values in genre and original_title columns \n",
    "imdb_movies_df.dropna(subset = ['genres', 'original_title'], inplace= True)"
   ]
  },
  {
   "cell_type": "code",
   "execution_count": 17,
   "metadata": {},
   "outputs": [
    {
     "data": {
      "text/html": [
       "<div>\n",
       "<style scoped>\n",
       "    .dataframe tbody tr th:only-of-type {\n",
       "        vertical-align: middle;\n",
       "    }\n",
       "\n",
       "    .dataframe tbody tr th {\n",
       "        vertical-align: top;\n",
       "    }\n",
       "\n",
       "    .dataframe thead th {\n",
       "        text-align: right;\n",
       "    }\n",
       "</style>\n",
       "<table border=\"1\" class=\"dataframe\">\n",
       "  <thead>\n",
       "    <tr style=\"text-align: right;\">\n",
       "      <th></th>\n",
       "      <th>index</th>\n",
       "      <th>Missing Values</th>\n",
       "      <th>Percentage</th>\n",
       "    </tr>\n",
       "  </thead>\n",
       "  <tbody>\n",
       "  </tbody>\n",
       "</table>\n",
       "</div>"
      ],
      "text/plain": [
       "Empty DataFrame\n",
       "Columns: [index, Missing Values, Percentage]\n",
       "Index: []"
      ]
     },
     "execution_count": 17,
     "metadata": {},
     "output_type": "execute_result"
    }
   ],
   "source": [
    "missing_values(imdb_movies_df)"
   ]
  },
  {
   "cell_type": "code",
   "execution_count": 18,
   "metadata": {},
   "outputs": [
    {
     "data": {
      "text/html": [
       "<div>\n",
       "<style scoped>\n",
       "    .dataframe tbody tr th:only-of-type {\n",
       "        vertical-align: middle;\n",
       "    }\n",
       "\n",
       "    .dataframe tbody tr th {\n",
       "        vertical-align: top;\n",
       "    }\n",
       "\n",
       "    .dataframe thead th {\n",
       "        text-align: right;\n",
       "    }\n",
       "</style>\n",
       "<table border=\"1\" class=\"dataframe\">\n",
       "  <thead>\n",
       "    <tr style=\"text-align: right;\">\n",
       "      <th></th>\n",
       "      <th>tconst</th>\n",
       "      <th>primary_title</th>\n",
       "      <th>original_title</th>\n",
       "      <th>start_year</th>\n",
       "      <th>runtime_minutes</th>\n",
       "      <th>genres</th>\n",
       "    </tr>\n",
       "  </thead>\n",
       "  <tbody>\n",
       "    <tr>\n",
       "      <th>0</th>\n",
       "      <td>tt0063540</td>\n",
       "      <td>Sunghursh</td>\n",
       "      <td>Sunghursh</td>\n",
       "      <td>2013</td>\n",
       "      <td>175.0</td>\n",
       "      <td>Action,Crime,Drama</td>\n",
       "    </tr>\n",
       "    <tr>\n",
       "      <th>1</th>\n",
       "      <td>tt0066787</td>\n",
       "      <td>One Day Before the Rainy Season</td>\n",
       "      <td>Ashad Ka Ek Din</td>\n",
       "      <td>2019</td>\n",
       "      <td>114.0</td>\n",
       "      <td>Biography,Drama</td>\n",
       "    </tr>\n",
       "    <tr>\n",
       "      <th>2</th>\n",
       "      <td>tt0069049</td>\n",
       "      <td>The Other Side of the Wind</td>\n",
       "      <td>The Other Side of the Wind</td>\n",
       "      <td>2018</td>\n",
       "      <td>122.0</td>\n",
       "      <td>Drama</td>\n",
       "    </tr>\n",
       "    <tr>\n",
       "      <th>3</th>\n",
       "      <td>tt0069204</td>\n",
       "      <td>Sabse Bada Sukh</td>\n",
       "      <td>Sabse Bada Sukh</td>\n",
       "      <td>2018</td>\n",
       "      <td>90.0</td>\n",
       "      <td>Comedy,Drama</td>\n",
       "    </tr>\n",
       "    <tr>\n",
       "      <th>4</th>\n",
       "      <td>tt0100275</td>\n",
       "      <td>The Wandering Soap Opera</td>\n",
       "      <td>La Telenovela Errante</td>\n",
       "      <td>2017</td>\n",
       "      <td>80.0</td>\n",
       "      <td>Comedy,Drama,Fantasy</td>\n",
       "    </tr>\n",
       "    <tr>\n",
       "      <th>...</th>\n",
       "      <td>...</td>\n",
       "      <td>...</td>\n",
       "      <td>...</td>\n",
       "      <td>...</td>\n",
       "      <td>...</td>\n",
       "      <td>...</td>\n",
       "    </tr>\n",
       "    <tr>\n",
       "      <th>146138</th>\n",
       "      <td>tt9916428</td>\n",
       "      <td>The Secret of China</td>\n",
       "      <td>The Secret of China</td>\n",
       "      <td>2019</td>\n",
       "      <td>90.0</td>\n",
       "      <td>Adventure,History,War</td>\n",
       "    </tr>\n",
       "    <tr>\n",
       "      <th>146139</th>\n",
       "      <td>tt9916538</td>\n",
       "      <td>Kuambil Lagi Hatiku</td>\n",
       "      <td>Kuambil Lagi Hatiku</td>\n",
       "      <td>2019</td>\n",
       "      <td>123.0</td>\n",
       "      <td>Drama</td>\n",
       "    </tr>\n",
       "    <tr>\n",
       "      <th>146140</th>\n",
       "      <td>tt9916622</td>\n",
       "      <td>Rodolpho Teóphilo - O Legado de um Pioneiro</td>\n",
       "      <td>Rodolpho Teóphilo - O Legado de um Pioneiro</td>\n",
       "      <td>2015</td>\n",
       "      <td>90.0</td>\n",
       "      <td>Documentary</td>\n",
       "    </tr>\n",
       "    <tr>\n",
       "      <th>146141</th>\n",
       "      <td>tt9916706</td>\n",
       "      <td>Dankyavar Danka</td>\n",
       "      <td>Dankyavar Danka</td>\n",
       "      <td>2013</td>\n",
       "      <td>90.0</td>\n",
       "      <td>Comedy</td>\n",
       "    </tr>\n",
       "    <tr>\n",
       "      <th>146143</th>\n",
       "      <td>tt9916754</td>\n",
       "      <td>Chico Albuquerque - Revelações</td>\n",
       "      <td>Chico Albuquerque - Revelações</td>\n",
       "      <td>2013</td>\n",
       "      <td>90.0</td>\n",
       "      <td>Documentary</td>\n",
       "    </tr>\n",
       "  </tbody>\n",
       "</table>\n",
       "<p>140734 rows × 6 columns</p>\n",
       "</div>"
      ],
      "text/plain": [
       "           tconst                                primary_title  \\\n",
       "0       tt0063540                                    Sunghursh   \n",
       "1       tt0066787              One Day Before the Rainy Season   \n",
       "2       tt0069049                   The Other Side of the Wind   \n",
       "3       tt0069204                              Sabse Bada Sukh   \n",
       "4       tt0100275                     The Wandering Soap Opera   \n",
       "...           ...                                          ...   \n",
       "146138  tt9916428                          The Secret of China   \n",
       "146139  tt9916538                          Kuambil Lagi Hatiku   \n",
       "146140  tt9916622  Rodolpho Teóphilo - O Legado de um Pioneiro   \n",
       "146141  tt9916706                              Dankyavar Danka   \n",
       "146143  tt9916754               Chico Albuquerque - Revelações   \n",
       "\n",
       "                                     original_title  start_year  \\\n",
       "0                                         Sunghursh        2013   \n",
       "1                                   Ashad Ka Ek Din        2019   \n",
       "2                        The Other Side of the Wind        2018   \n",
       "3                                   Sabse Bada Sukh        2018   \n",
       "4                             La Telenovela Errante        2017   \n",
       "...                                             ...         ...   \n",
       "146138                          The Secret of China        2019   \n",
       "146139                          Kuambil Lagi Hatiku        2019   \n",
       "146140  Rodolpho Teóphilo - O Legado de um Pioneiro        2015   \n",
       "146141                              Dankyavar Danka        2013   \n",
       "146143               Chico Albuquerque - Revelações        2013   \n",
       "\n",
       "        runtime_minutes                 genres  \n",
       "0                 175.0     Action,Crime,Drama  \n",
       "1                 114.0        Biography,Drama  \n",
       "2                 122.0                  Drama  \n",
       "3                  90.0           Comedy,Drama  \n",
       "4                  80.0   Comedy,Drama,Fantasy  \n",
       "...                 ...                    ...  \n",
       "146138             90.0  Adventure,History,War  \n",
       "146139            123.0                  Drama  \n",
       "146140             90.0            Documentary  \n",
       "146141             90.0                 Comedy  \n",
       "146143             90.0            Documentary  \n",
       "\n",
       "[140734 rows x 6 columns]"
      ]
     },
     "execution_count": 18,
     "metadata": {},
     "output_type": "execute_result"
    }
   ],
   "source": [
    "# check the new dataframe\n",
    "imdb_movies_df"
   ]
  },
  {
   "cell_type": "markdown",
   "metadata": {},
   "source": [
    "## Fix Structural Issues"
   ]
  },
  {
   "cell_type": "markdown",
   "metadata": {},
   "source": [
    "Here I deal with all unwanted characters and change all data types to the desired data types.\n",
    "\n",
    "I write a function to ease the process."
   ]
  },
  {
   "cell_type": "code",
   "execution_count": 19,
   "metadata": {},
   "outputs": [],
   "source": [
    "# simple function to remove characters\n",
    "def remove_character(data, cols, characters):\n",
    "    # loop through the columns\n",
    "    for col in cols:\n",
    "        data[col] = data[col].str.strip(characters)\n",
    "\n",
    "    return data.head()"
   ]
  },
  {
   "cell_type": "markdown",
   "metadata": {},
   "source": [
    "### FOR tn_movies_df;"
   ]
  },
  {
   "cell_type": "code",
   "execution_count": 20,
   "metadata": {},
   "outputs": [
    {
     "data": {
      "text/html": [
       "<div>\n",
       "<style scoped>\n",
       "    .dataframe tbody tr th:only-of-type {\n",
       "        vertical-align: middle;\n",
       "    }\n",
       "\n",
       "    .dataframe tbody tr th {\n",
       "        vertical-align: top;\n",
       "    }\n",
       "\n",
       "    .dataframe thead th {\n",
       "        text-align: right;\n",
       "    }\n",
       "</style>\n",
       "<table border=\"1\" class=\"dataframe\">\n",
       "  <thead>\n",
       "    <tr style=\"text-align: right;\">\n",
       "      <th></th>\n",
       "      <th>id</th>\n",
       "      <th>release_date</th>\n",
       "      <th>movie</th>\n",
       "      <th>production_budget</th>\n",
       "      <th>domestic_gross</th>\n",
       "      <th>worldwide_gross</th>\n",
       "    </tr>\n",
       "  </thead>\n",
       "  <tbody>\n",
       "    <tr>\n",
       "      <th>0</th>\n",
       "      <td>1</td>\n",
       "      <td>Dec 18, 2009</td>\n",
       "      <td>Avatar</td>\n",
       "      <td>425,000,000</td>\n",
       "      <td>760,507,625</td>\n",
       "      <td>2,776,345,279</td>\n",
       "    </tr>\n",
       "    <tr>\n",
       "      <th>1</th>\n",
       "      <td>2</td>\n",
       "      <td>May 20, 2011</td>\n",
       "      <td>Pirates of the Caribbean: On Stranger Tides</td>\n",
       "      <td>410,600,000</td>\n",
       "      <td>241,063,875</td>\n",
       "      <td>1,045,663,875</td>\n",
       "    </tr>\n",
       "    <tr>\n",
       "      <th>2</th>\n",
       "      <td>3</td>\n",
       "      <td>Jun 7, 2019</td>\n",
       "      <td>Dark Phoenix</td>\n",
       "      <td>350,000,000</td>\n",
       "      <td>42,762,350</td>\n",
       "      <td>149,762,350</td>\n",
       "    </tr>\n",
       "    <tr>\n",
       "      <th>3</th>\n",
       "      <td>4</td>\n",
       "      <td>May 1, 2015</td>\n",
       "      <td>Avengers: Age of Ultron</td>\n",
       "      <td>330,600,000</td>\n",
       "      <td>459,005,868</td>\n",
       "      <td>1,403,013,963</td>\n",
       "    </tr>\n",
       "    <tr>\n",
       "      <th>4</th>\n",
       "      <td>5</td>\n",
       "      <td>Dec 15, 2017</td>\n",
       "      <td>Star Wars Ep. VIII: The Last Jedi</td>\n",
       "      <td>317,000,000</td>\n",
       "      <td>620,181,382</td>\n",
       "      <td>1,316,721,747</td>\n",
       "    </tr>\n",
       "  </tbody>\n",
       "</table>\n",
       "</div>"
      ],
      "text/plain": [
       "   id  release_date                                        movie  \\\n",
       "0   1  Dec 18, 2009                                       Avatar   \n",
       "1   2  May 20, 2011  Pirates of the Caribbean: On Stranger Tides   \n",
       "2   3   Jun 7, 2019                                 Dark Phoenix   \n",
       "3   4   May 1, 2015                      Avengers: Age of Ultron   \n",
       "4   5  Dec 15, 2017            Star Wars Ep. VIII: The Last Jedi   \n",
       "\n",
       "  production_budget domestic_gross worldwide_gross  \n",
       "0       425,000,000    760,507,625   2,776,345,279  \n",
       "1       410,600,000    241,063,875   1,045,663,875  \n",
       "2       350,000,000     42,762,350     149,762,350  \n",
       "3       330,600,000    459,005,868   1,403,013,963  \n",
       "4       317,000,000    620,181,382   1,316,721,747  "
      ]
     },
     "execution_count": 20,
     "metadata": {},
     "output_type": "execute_result"
    }
   ],
   "source": [
    "# remove the \"$\" character.\n",
    "remove_character(tn_movies_df, ['production_budget', 'domestic_gross', 'worldwide_gross'], '$')"
   ]
  },
  {
   "cell_type": "code",
   "execution_count": 21,
   "metadata": {
    "scrolled": false
   },
   "outputs": [
    {
     "data": {
      "text/html": [
       "<div>\n",
       "<style scoped>\n",
       "    .dataframe tbody tr th:only-of-type {\n",
       "        vertical-align: middle;\n",
       "    }\n",
       "\n",
       "    .dataframe tbody tr th {\n",
       "        vertical-align: top;\n",
       "    }\n",
       "\n",
       "    .dataframe thead th {\n",
       "        text-align: right;\n",
       "    }\n",
       "</style>\n",
       "<table border=\"1\" class=\"dataframe\">\n",
       "  <thead>\n",
       "    <tr style=\"text-align: right;\">\n",
       "      <th></th>\n",
       "      <th>id</th>\n",
       "      <th>release_date</th>\n",
       "      <th>movie</th>\n",
       "      <th>production_budget</th>\n",
       "      <th>domestic_gross</th>\n",
       "      <th>worldwide_gross</th>\n",
       "    </tr>\n",
       "  </thead>\n",
       "  <tbody>\n",
       "    <tr>\n",
       "      <th>0</th>\n",
       "      <td>1</td>\n",
       "      <td>2009-12-18</td>\n",
       "      <td>Avatar</td>\n",
       "      <td>425,000,000</td>\n",
       "      <td>760,507,625</td>\n",
       "      <td>2,776,345,279</td>\n",
       "    </tr>\n",
       "    <tr>\n",
       "      <th>1</th>\n",
       "      <td>2</td>\n",
       "      <td>2011-05-20</td>\n",
       "      <td>Pirates of the Caribbean: On Stranger Tides</td>\n",
       "      <td>410,600,000</td>\n",
       "      <td>241,063,875</td>\n",
       "      <td>1,045,663,875</td>\n",
       "    </tr>\n",
       "    <tr>\n",
       "      <th>2</th>\n",
       "      <td>3</td>\n",
       "      <td>2019-06-07</td>\n",
       "      <td>Dark Phoenix</td>\n",
       "      <td>350,000,000</td>\n",
       "      <td>42,762,350</td>\n",
       "      <td>149,762,350</td>\n",
       "    </tr>\n",
       "    <tr>\n",
       "      <th>3</th>\n",
       "      <td>4</td>\n",
       "      <td>2015-05-01</td>\n",
       "      <td>Avengers: Age of Ultron</td>\n",
       "      <td>330,600,000</td>\n",
       "      <td>459,005,868</td>\n",
       "      <td>1,403,013,963</td>\n",
       "    </tr>\n",
       "    <tr>\n",
       "      <th>4</th>\n",
       "      <td>5</td>\n",
       "      <td>2017-12-15</td>\n",
       "      <td>Star Wars Ep. VIII: The Last Jedi</td>\n",
       "      <td>317,000,000</td>\n",
       "      <td>620,181,382</td>\n",
       "      <td>1,316,721,747</td>\n",
       "    </tr>\n",
       "    <tr>\n",
       "      <th>...</th>\n",
       "      <td>...</td>\n",
       "      <td>...</td>\n",
       "      <td>...</td>\n",
       "      <td>...</td>\n",
       "      <td>...</td>\n",
       "      <td>...</td>\n",
       "    </tr>\n",
       "    <tr>\n",
       "      <th>5777</th>\n",
       "      <td>78</td>\n",
       "      <td>2018-12-31</td>\n",
       "      <td>Red 11</td>\n",
       "      <td>7,000</td>\n",
       "      <td>0</td>\n",
       "      <td>0</td>\n",
       "    </tr>\n",
       "    <tr>\n",
       "      <th>5778</th>\n",
       "      <td>79</td>\n",
       "      <td>1999-04-02</td>\n",
       "      <td>Following</td>\n",
       "      <td>6,000</td>\n",
       "      <td>48,482</td>\n",
       "      <td>240,495</td>\n",
       "    </tr>\n",
       "    <tr>\n",
       "      <th>5779</th>\n",
       "      <td>80</td>\n",
       "      <td>2005-07-13</td>\n",
       "      <td>Return to the Land of Wonders</td>\n",
       "      <td>5,000</td>\n",
       "      <td>1,338</td>\n",
       "      <td>1,338</td>\n",
       "    </tr>\n",
       "    <tr>\n",
       "      <th>5780</th>\n",
       "      <td>81</td>\n",
       "      <td>2015-09-29</td>\n",
       "      <td>A Plague So Pleasant</td>\n",
       "      <td>1,400</td>\n",
       "      <td>0</td>\n",
       "      <td>0</td>\n",
       "    </tr>\n",
       "    <tr>\n",
       "      <th>5781</th>\n",
       "      <td>82</td>\n",
       "      <td>2005-08-05</td>\n",
       "      <td>My Date With Drew</td>\n",
       "      <td>1,100</td>\n",
       "      <td>181,041</td>\n",
       "      <td>181,041</td>\n",
       "    </tr>\n",
       "  </tbody>\n",
       "</table>\n",
       "<p>5782 rows × 6 columns</p>\n",
       "</div>"
      ],
      "text/plain": [
       "      id release_date                                        movie  \\\n",
       "0      1   2009-12-18                                       Avatar   \n",
       "1      2   2011-05-20  Pirates of the Caribbean: On Stranger Tides   \n",
       "2      3   2019-06-07                                 Dark Phoenix   \n",
       "3      4   2015-05-01                      Avengers: Age of Ultron   \n",
       "4      5   2017-12-15            Star Wars Ep. VIII: The Last Jedi   \n",
       "...   ..          ...                                          ...   \n",
       "5777  78   2018-12-31                                       Red 11   \n",
       "5778  79   1999-04-02                                    Following   \n",
       "5779  80   2005-07-13                Return to the Land of Wonders   \n",
       "5780  81   2015-09-29                         A Plague So Pleasant   \n",
       "5781  82   2005-08-05                            My Date With Drew   \n",
       "\n",
       "     production_budget domestic_gross worldwide_gross  \n",
       "0          425,000,000    760,507,625   2,776,345,279  \n",
       "1          410,600,000    241,063,875   1,045,663,875  \n",
       "2          350,000,000     42,762,350     149,762,350  \n",
       "3          330,600,000    459,005,868   1,403,013,963  \n",
       "4          317,000,000    620,181,382   1,316,721,747  \n",
       "...                ...            ...             ...  \n",
       "5777             7,000              0               0  \n",
       "5778             6,000         48,482         240,495  \n",
       "5779             5,000          1,338           1,338  \n",
       "5780             1,400              0               0  \n",
       "5781             1,100        181,041         181,041  \n",
       "\n",
       "[5782 rows x 6 columns]"
      ]
     },
     "execution_count": 21,
     "metadata": {},
     "output_type": "execute_result"
    }
   ],
   "source": [
    "# convert the release_date column to datetime object\n",
    "tn_movies_df['release_date'] = pd.to_datetime(tn_movies_df['release_date'])\n",
    "tn_movies_df"
   ]
  },
  {
   "cell_type": "markdown",
   "metadata": {},
   "source": [
    "# Merge the datasets."
   ]
  },
  {
   "cell_type": "markdown",
   "metadata": {},
   "source": [
    "I will be merging the datasets inorder to have a comprehensive datasets. This will help in the analysis of the data in an easier way.\n",
    "\n",
    "My approach is by merging the datasets according to the company names. ie imdb, rt."
   ]
  },
  {
   "cell_type": "markdown",
   "metadata": {},
   "source": [
    "### For IMDB\n",
    "Based on the dataframes I will join imdb_names_df and imdb_title_df."
   ]
  },
  {
   "cell_type": "code",
   "execution_count": 22,
   "metadata": {},
   "outputs": [
    {
     "data": {
      "text/html": [
       "<div>\n",
       "<style scoped>\n",
       "    .dataframe tbody tr th:only-of-type {\n",
       "        vertical-align: middle;\n",
       "    }\n",
       "\n",
       "    .dataframe tbody tr th {\n",
       "        vertical-align: top;\n",
       "    }\n",
       "\n",
       "    .dataframe thead th {\n",
       "        text-align: right;\n",
       "    }\n",
       "</style>\n",
       "<table border=\"1\" class=\"dataframe\">\n",
       "  <thead>\n",
       "    <tr style=\"text-align: right;\">\n",
       "      <th></th>\n",
       "      <th>tconst</th>\n",
       "      <th>primary_title</th>\n",
       "      <th>original_title</th>\n",
       "      <th>start_year</th>\n",
       "      <th>runtime_minutes</th>\n",
       "      <th>genres</th>\n",
       "      <th>averagerating</th>\n",
       "      <th>numvotes</th>\n",
       "    </tr>\n",
       "  </thead>\n",
       "  <tbody>\n",
       "    <tr>\n",
       "      <th>0</th>\n",
       "      <td>tt0063540</td>\n",
       "      <td>Sunghursh</td>\n",
       "      <td>Sunghursh</td>\n",
       "      <td>2013</td>\n",
       "      <td>175.0</td>\n",
       "      <td>Action,Crime,Drama</td>\n",
       "      <td>7.0</td>\n",
       "      <td>77</td>\n",
       "    </tr>\n",
       "    <tr>\n",
       "      <th>1</th>\n",
       "      <td>tt0066787</td>\n",
       "      <td>One Day Before the Rainy Season</td>\n",
       "      <td>Ashad Ka Ek Din</td>\n",
       "      <td>2019</td>\n",
       "      <td>114.0</td>\n",
       "      <td>Biography,Drama</td>\n",
       "      <td>7.2</td>\n",
       "      <td>43</td>\n",
       "    </tr>\n",
       "    <tr>\n",
       "      <th>2</th>\n",
       "      <td>tt0069049</td>\n",
       "      <td>The Other Side of the Wind</td>\n",
       "      <td>The Other Side of the Wind</td>\n",
       "      <td>2018</td>\n",
       "      <td>122.0</td>\n",
       "      <td>Drama</td>\n",
       "      <td>6.9</td>\n",
       "      <td>4517</td>\n",
       "    </tr>\n",
       "    <tr>\n",
       "      <th>3</th>\n",
       "      <td>tt0069204</td>\n",
       "      <td>Sabse Bada Sukh</td>\n",
       "      <td>Sabse Bada Sukh</td>\n",
       "      <td>2018</td>\n",
       "      <td>90.0</td>\n",
       "      <td>Comedy,Drama</td>\n",
       "      <td>6.1</td>\n",
       "      <td>13</td>\n",
       "    </tr>\n",
       "    <tr>\n",
       "      <th>4</th>\n",
       "      <td>tt0100275</td>\n",
       "      <td>The Wandering Soap Opera</td>\n",
       "      <td>La Telenovela Errante</td>\n",
       "      <td>2017</td>\n",
       "      <td>80.0</td>\n",
       "      <td>Comedy,Drama,Fantasy</td>\n",
       "      <td>6.5</td>\n",
       "      <td>119</td>\n",
       "    </tr>\n",
       "  </tbody>\n",
       "</table>\n",
       "</div>"
      ],
      "text/plain": [
       "      tconst                    primary_title              original_title  \\\n",
       "0  tt0063540                        Sunghursh                   Sunghursh   \n",
       "1  tt0066787  One Day Before the Rainy Season             Ashad Ka Ek Din   \n",
       "2  tt0069049       The Other Side of the Wind  The Other Side of the Wind   \n",
       "3  tt0069204                  Sabse Bada Sukh             Sabse Bada Sukh   \n",
       "4  tt0100275         The Wandering Soap Opera       La Telenovela Errante   \n",
       "\n",
       "   start_year  runtime_minutes                genres  averagerating  numvotes  \n",
       "0        2013            175.0    Action,Crime,Drama            7.0        77  \n",
       "1        2019            114.0       Biography,Drama            7.2        43  \n",
       "2        2018            122.0                 Drama            6.9      4517  \n",
       "3        2018             90.0          Comedy,Drama            6.1        13  \n",
       "4        2017             80.0  Comedy,Drama,Fantasy            6.5       119  "
      ]
     },
     "execution_count": 22,
     "metadata": {},
     "output_type": "execute_result"
    }
   ],
   "source": [
    "imdb_df= imdb_movies_df.merge(imdb_title_rating_df, on= 'tconst', how= 'inner')\n",
    "imdb_df.head()"
   ]
  },
  {
   "cell_type": "code",
   "execution_count": 23,
   "metadata": {},
   "outputs": [
    {
     "data": {
      "text/plain": [
       "tconst              object\n",
       "primary_title       object\n",
       "original_title      object\n",
       "start_year           int64\n",
       "runtime_minutes    float64\n",
       "genres              object\n",
       "averagerating      float64\n",
       "numvotes             int64\n",
       "dtype: object"
      ]
     },
     "execution_count": 23,
     "metadata": {},
     "output_type": "execute_result"
    }
   ],
   "source": [
    "imdb_df.dtypes"
   ]
  },
  {
   "cell_type": "markdown",
   "metadata": {},
   "source": [
    "# WHAT ARE THE SPECIFIC GENRES OR STORYLINES THAT RESONATE WELL WITH AUDIENCES AND ARE SUCCESSFUL."
   ]
  },
  {
   "cell_type": "code",
   "execution_count": 24,
   "metadata": {
    "scrolled": true
   },
   "outputs": [
    {
     "data": {
      "text/plain": [
       "tconst                     object\n",
       "primary_title              object\n",
       "original_title             object\n",
       "start_year         datetime64[ns]\n",
       "runtime_minutes           float64\n",
       "genres                     object\n",
       "averagerating             float64\n",
       "numvotes                  float64\n",
       "dtype: object"
      ]
     },
     "execution_count": 24,
     "metadata": {},
     "output_type": "execute_result"
    }
   ],
   "source": [
    "# convert numvotes datatype to a float\n",
    "imdb_df['numvotes'] = imdb_df['numvotes'].astype('float64')\n",
    "\n",
    "#convert start_year to datetime\n",
    "imdb_df['start_year'] = pd.to_datetime(imdb_df['start_year'], format='%Y')\n",
    "\n",
    "imdb_df.dtypes"
   ]
  },
  {
   "cell_type": "markdown",
   "metadata": {},
   "source": [
    "### using the IMDB dataset I will analyse analyse this;\n",
    "For the univarient analysis;"
   ]
  },
  {
   "cell_type": "code",
   "execution_count": 25,
   "metadata": {},
   "outputs": [
    {
     "data": {
      "text/html": [
       "<div>\n",
       "<style scoped>\n",
       "    .dataframe tbody tr th:only-of-type {\n",
       "        vertical-align: middle;\n",
       "    }\n",
       "\n",
       "    .dataframe tbody tr th {\n",
       "        vertical-align: top;\n",
       "    }\n",
       "\n",
       "    .dataframe thead th {\n",
       "        text-align: right;\n",
       "    }\n",
       "</style>\n",
       "<table border=\"1\" class=\"dataframe\">\n",
       "  <thead>\n",
       "    <tr style=\"text-align: right;\">\n",
       "      <th></th>\n",
       "      <th>runtime_minutes</th>\n",
       "      <th>averagerating</th>\n",
       "      <th>numvotes</th>\n",
       "    </tr>\n",
       "  </thead>\n",
       "  <tbody>\n",
       "    <tr>\n",
       "      <th>count</th>\n",
       "      <td>73,052.00</td>\n",
       "      <td>73,052.00</td>\n",
       "      <td>73,052.00</td>\n",
       "    </tr>\n",
       "    <tr>\n",
       "      <th>mean</th>\n",
       "      <td>94.26</td>\n",
       "      <td>6.33</td>\n",
       "      <td>3,562.17</td>\n",
       "    </tr>\n",
       "    <tr>\n",
       "      <th>std</th>\n",
       "      <td>198.60</td>\n",
       "      <td>1.47</td>\n",
       "      <td>30,458.04</td>\n",
       "    </tr>\n",
       "    <tr>\n",
       "      <th>min</th>\n",
       "      <td>3.00</td>\n",
       "      <td>1.00</td>\n",
       "      <td>5.00</td>\n",
       "    </tr>\n",
       "    <tr>\n",
       "      <th>25%</th>\n",
       "      <td>83.00</td>\n",
       "      <td>5.50</td>\n",
       "      <td>14.00</td>\n",
       "    </tr>\n",
       "    <tr>\n",
       "      <th>50%</th>\n",
       "      <td>90.00</td>\n",
       "      <td>6.50</td>\n",
       "      <td>50.00</td>\n",
       "    </tr>\n",
       "    <tr>\n",
       "      <th>75%</th>\n",
       "      <td>102.00</td>\n",
       "      <td>7.40</td>\n",
       "      <td>289.00</td>\n",
       "    </tr>\n",
       "    <tr>\n",
       "      <th>max</th>\n",
       "      <td>51,420.00</td>\n",
       "      <td>10.00</td>\n",
       "      <td>1,841,066.00</td>\n",
       "    </tr>\n",
       "  </tbody>\n",
       "</table>\n",
       "</div>"
      ],
      "text/plain": [
       "       runtime_minutes  averagerating     numvotes\n",
       "count        73,052.00      73,052.00    73,052.00\n",
       "mean             94.26           6.33     3,562.17\n",
       "std             198.60           1.47    30,458.04\n",
       "min               3.00           1.00         5.00\n",
       "25%              83.00           5.50        14.00\n",
       "50%              90.00           6.50        50.00\n",
       "75%             102.00           7.40       289.00\n",
       "max          51,420.00          10.00 1,841,066.00"
      ]
     },
     "execution_count": 25,
     "metadata": {},
     "output_type": "execute_result"
    }
   ],
   "source": [
    "# Set the display format for float columns\n",
    "pd.options.display.float_format = '{:,.2f}'.format\n",
    "\n",
    "imdb_df.describe()\n"
   ]
  },
  {
   "cell_type": "markdown",
   "metadata": {},
   "source": [
    "Plot visualizations for the univarients analysis."
   ]
  },
  {
   "cell_type": "code",
   "execution_count": 26,
   "metadata": {
    "scrolled": false
   },
   "outputs": [
    {
     "data": {
      "image/png": "[encoded data removed]",
      "text/plain": [
       "<Figure size 720x432 with 1 Axes>"
      ]
     },
     "metadata": {
      "needs_background": "light"
     },
     "output_type": "display_data"
    },
    {
     "data": {
      "image/png": "[encoded data removed]",
      "text/plain": [
       "<Figure size 720x432 with 1 Axes>"
      ]
     },
     "metadata": {
      "needs_background": "light"
     },
     "output_type": "display_data"
    },
    {
     "data": {
      "image/png": "[encoded data removed]",
      "text/plain": [
       "<Figure size 720x432 with 1 Axes>"
      ]
     },
     "metadata": {
      "needs_background": "light"
     },
     "output_type": "display_data"
    }
   ],
   "source": [
    "# Plot histogram for 'runtime_minutes'\n",
    "plt.figure(figsize=(10, 6))\n",
    "plt.hist(imdb_df['runtime_minutes'], bins=5, color='skyblue')\n",
    "plt.xlabel('Runtime (minutes)')\n",
    "plt.ylabel('Frequency')\n",
    "plt.title('Distribution of Runtime')\n",
    "plt.grid(True)\n",
    "plt.show()\n",
    "\n",
    "# Plot histogram for 'averagerating'\n",
    "plt.figure(figsize=(10, 6))\n",
    "plt.hist(imdb_df['averagerating'], bins=50, color='lightgreen')\n",
    "plt.xlabel('Average Rating')\n",
    "plt.ylabel('Frequency')\n",
    "plt.title('Distribution of Average Rating')\n",
    "plt.grid(True)\n",
    "plt.show()\n",
    "\n",
    "# Plot histogram for 'numvotes'\n",
    "plt.figure(figsize=(10, 6))\n",
    "plt.hist(imdb_df['numvotes'], bins=5, color='salmon')\n",
    "plt.xlabel('Number of Votes')\n",
    "plt.ylabel('Frequency')\n",
    "plt.title('Distribution of Number of Votes')\n",
    "plt.grid(True)\n",
    "plt.show()\n"
   ]
  },
  {
   "cell_type": "markdown",
   "metadata": {},
   "source": [
    "Interpreting the Visualizations:\n",
    "\n",
    "Distribution of Runtime:\n",
    "\n",
    "The histogram shows the distribution of movie runtimes in minutes.\n",
    "The x-axis represents the runtime in minutes, and the y-axis represents the frequency (number of movies) in each bin.\n",
    "The majority of movies have a runtime between 80 and 120 minutes, as indicated by the peak in the histogram.\n",
    "\n",
    "Distribution of Average Rating:\n",
    "\n",
    "The histogram shows the distribution of average ratings given to movies.\n",
    "The x-axis represents the average rating, and the y-axis represents the frequency of movies falling into each rating bin.\n",
    "The distribution appears to be slightly skewed to the right, indicating that there are more movies with higher average ratings.\n",
    "\n",
    "Distribution of Number of Votes:\n",
    "\n",
    "The histogram displays the distribution of the number of votes received by movies.\n",
    "The x-axis represents the number of votes, and the y-axis represents the frequency of movies in each bin.\n",
    "The majority of movies have a relatively small number of votes, as indicated by the peak in the histogram towards the lower end."
   ]
  },
  {
   "cell_type": "markdown",
   "metadata": {},
   "source": [
    "Using the imdb_df dataset, I will analyze the dataset based on \"averagerating\" and \"numvotes\" columns. The higher the average rating and the more the votes a movie has, the more successful it is with audiences. \n",
    "\n",
    "Here is a code that explains the same;"
   ]
  },
  {
   "cell_type": "code",
   "execution_count": 27,
   "metadata": {},
   "outputs": [
    {
     "name": "stdout",
     "output_type": "stream",
     "text": [
      "Genres or Storylines that resonate well with audiences and are successful:\n",
      "Drama          2165\n",
      "Documentary     858\n",
      "Comedy          828\n",
      "Action          552\n",
      "Biography       491\n",
      "Romance         446\n",
      "Crime           412\n",
      "Thriller        389\n",
      "Adventure       316\n",
      "History         260\n",
      "Animation       207\n",
      "Music           188\n",
      "Mystery         171\n",
      "Sport           142\n",
      "Family          135\n",
      "Fantasy         111\n",
      "War              95\n",
      "Sci-Fi           91\n",
      "Horror           82\n",
      "Musical          46\n",
      "News             31\n",
      "Western           8\n",
      "dtype: int64\n"
     ]
    }
   ],
   "source": [
    "# define the success criteria.\n",
    "min_avg_rating = 7.0\n",
    "min_num_votes = 500\n",
    "\n",
    "# Filter successful movies based on the criteria\n",
    "successful_movies = imdb_df[(imdb_df['averagerating'] >= min_avg_rating) & (imdb_df['numvotes'] > min_num_votes)]\n",
    "\n",
    "# Explore genres or storylines of successful movies\n",
    "successful_genres = successful_movies['genres'].str.split(',', expand=True).stack().value_counts()\n",
    "\n",
    "print(\"Genres or Storylines that resonate well with audiences and are successful:\")\n",
    "print(successful_genres)"
   ]
  },
  {
   "cell_type": "markdown",
   "metadata": {},
   "source": [
    "Plot a horizontal bargraph to display the count of each successful genre"
   ]
  },
  {
   "cell_type": "code",
   "execution_count": 28,
   "metadata": {},
   "outputs": [
    {
     "data": {
      "image/png": "[encoded data removed]",
      "text/plain": [
       "<Figure size 720x432 with 1 Axes>"
      ]
     },
     "metadata": {
      "needs_background": "light"
     },
     "output_type": "display_data"
    }
   ],
   "source": [
    "# create the horizontal bar plot\n",
    "#adjust the figure size as needed.\n",
    "plt.figure(figsize=(10,6))\n",
    "\n",
    "# plot an horizontal bar chart\n",
    "plt.barh(successful_genres.index, successful_genres.values, color='skyblue')\n",
    "\n",
    "#customize the plot\n",
    "plt.xlabel('Number of Successful Movies')\n",
    "plt.ylabel('Genres')\n",
    "plt.title('Genres that Resonate Well with Audience')\n",
    "\n",
    "# rotate the x-axis labela for better readerbility\n",
    "plt.xticks(rotation=45)\n",
    "\n",
    "# show the plot\n",
    "# ensure all elements are visible\n",
    "plt.tight_layout()\n",
    "plt.show()"
   ]
  },
  {
   "cell_type": "markdown",
   "metadata": {},
   "source": [
    "Based on these I am able to make these observations;\n",
    "The top three performing genres are Drama, Documentary and Comedy. These genres resonate well with the audience as well as have the highest number of successful movies.\n",
    "\n",
    "Drama being the most successful genre indicates that the audiences enjoy movies that have a compelling storytelling, emotional depth and character driven narratives. Similarly the popularity of documentaries suggests that audiences appreciate non-fictional, informative and thought-provoking content.\n",
    "\n",
    "\n",
    "\n"
   ]
  },
  {
   "cell_type": "markdown",
   "metadata": {},
   "source": [
    "## Let us look at the effect that runtime has to the success of the movies.\n",
    "My objective here is to find the prefered runtime to the movies.\n",
    "I will create visualizations for the same."
   ]
  },
  {
   "cell_type": "code",
   "execution_count": 29,
   "metadata": {},
   "outputs": [
    {
     "name": "stdout",
     "output_type": "stream",
     "text": [
      "Correlation Matrix:\n",
      "                 runtime_minutes  averagerating  numvotes\n",
      "runtime_minutes             1.00           0.18      0.13\n",
      "averagerating               0.18           1.00      0.08\n",
      "numvotes                    0.13           0.08      1.00\n"
     ]
    }
   ],
   "source": [
    "# calculate the correlation\n",
    "correlation = successful_movies[['runtime_minutes', 'averagerating', 'numvotes']].corr()\n",
    "\n",
    "print(\"Correlation Matrix:\")\n",
    "print(correlation)"
   ]
  },
  {
   "cell_type": "markdown",
   "metadata": {},
   "source": [
    "I will plot a scatter plot showing the relationship between the success of themovies and their runtime. "
   ]
  },
  {
   "cell_type": "code",
   "execution_count": 30,
   "metadata": {},
   "outputs": [
    {
     "data": {
      "image/png": "[encoded data removed]",
      "text/plain": [
       "<Figure size 720x432 with 1 Axes>"
      ]
     },
     "metadata": {
      "needs_background": "light"
     },
     "output_type": "display_data"
    }
   ],
   "source": [
    "# Create the scatter plot\n",
    "# Adjust the figure size as needed\n",
    "plt.figure(figsize=(10, 6))  \n",
    "\n",
    "# Plot the scatter plot\n",
    "plt.scatter(successful_movies['runtime_minutes'], successful_movies['averagerating'], s=50, c='blue', alpha=0.7, label='Average Rating')\n",
    "plt.scatter(successful_movies['runtime_minutes'], successful_movies['numvotes'], s=50, c='green', alpha=0.7, label='Number of Votes')\n",
    "\n",
    "# Customize the plot\n",
    "plt.xlabel('Runtime (Minutes)')\n",
    "plt.ylabel('Success Metrics')\n",
    "plt.title('Relationship Between Success of Movies and Runtime')\n",
    "plt.legend()\n",
    "\n",
    "# Show the plot\n",
    "plt.tight_layout()  # Ensures all elements are visible\n",
    "plt.show()"
   ]
  },
  {
   "cell_type": "markdown",
   "metadata": {},
   "source": [
    "I will also create a heatmap for the same for better analysis"
   ]
  },
  {
   "cell_type": "code",
   "execution_count": 31,
   "metadata": {},
   "outputs": [
    {
     "data": {
      "image/png": "[encoded data removed]",
      "text/plain": [
       "<Figure size 720x432 with 2 Axes>"
      ]
     },
     "metadata": {
      "needs_background": "light"
     },
     "output_type": "display_data"
    }
   ],
   "source": [
    "#Create the heatmap\n",
    "plt.figure(figsize=(10, 6))  # Adjust the figure size as needed\n",
    "\n",
    "# Create the heatmap using seaborn's heatmap function\n",
    "sns.heatmap(successful_movies[['runtime_minutes', 'averagerating', 'numvotes']].corr(), annot=True, cmap='coolwarm')\n",
    "\n",
    "# Customize the plot\n",
    "plt.title('Heatmap: Relationship Between Success of Movies and Runtime')\n",
    "plt.xticks(rotation=45)\n",
    "plt.yticks(rotation=0)\n",
    "\n",
    "# Show the plot\n",
    "plt.tight_layout()  # Ensures all elements are visible\n",
    "plt.show()"
   ]
  },
  {
   "cell_type": "markdown",
   "metadata": {},
   "source": [
    "The correlation  coefficient between \"runtime_minutes\" and \"averagerating\" is approximately 0.18. this is a positive correlation which suggests thata there is a weak positive relationship between the movie's runtime and it's average rating. Longer movies may have a slightly higher average ratings but the correlation is not strong.\n",
    "\n",
    "The correlation coefficient between \"runtime_minutes\" and \"numvotes\" is approximately 0.13. this positive correlation indicates a weak positive relationship between the movie's runtime and the number of votes it recieves. Longer movies may have slightly more votes but the correlation is not very strong.\n",
    "\n",
    "The correlation coefficient between \"averagerating\" and \"numvotes\" is approximately 0.084. This positive correlation suggests a very weak positive relationship between a movie's average rating rating and the number of votes it recieves. There s a minimal tendency for movies with higher average ratings to recieve more votes, but the correlation is quite weak.\n",
    "\n",
    "Overall, the correlation matrix shows that there are some weak positive correlations between the success metrics and the runtime of movies. However, these correlations are not very strong, indicating that there are other factors that play a more significant role in determining a movie's success."
   ]
  },
  {
   "cell_type": "markdown",
   "metadata": {},
   "source": [
    "# ARE THERE SPECIFIC RELEASE WINDOWS OR SEASONS THAT TEND TO GENERATE HIGHER BOX OFFICE REVENUES."
   ]
  },
  {
   "cell_type": "markdown",
   "metadata": {},
   "source": [
    "Here I will use the tn_movies_df to identify the effect of the release date to the net profit of each movie."
   ]
  },
  {
   "cell_type": "code",
   "execution_count": 32,
   "metadata": {
    "scrolled": true
   },
   "outputs": [
    {
     "data": {
      "text/html": [
       "<div>\n",
       "<style scoped>\n",
       "    .dataframe tbody tr th:only-of-type {\n",
       "        vertical-align: middle;\n",
       "    }\n",
       "\n",
       "    .dataframe tbody tr th {\n",
       "        vertical-align: top;\n",
       "    }\n",
       "\n",
       "    .dataframe thead th {\n",
       "        text-align: right;\n",
       "    }\n",
       "</style>\n",
       "<table border=\"1\" class=\"dataframe\">\n",
       "  <thead>\n",
       "    <tr style=\"text-align: right;\">\n",
       "      <th></th>\n",
       "      <th>id</th>\n",
       "      <th>release_date</th>\n",
       "      <th>movie</th>\n",
       "      <th>production_budget</th>\n",
       "      <th>domestic_gross</th>\n",
       "      <th>worldwide_gross</th>\n",
       "    </tr>\n",
       "  </thead>\n",
       "  <tbody>\n",
       "    <tr>\n",
       "      <th>0</th>\n",
       "      <td>1</td>\n",
       "      <td>2009-12-18</td>\n",
       "      <td>Avatar</td>\n",
       "      <td>425,000,000</td>\n",
       "      <td>760,507,625</td>\n",
       "      <td>2,776,345,279</td>\n",
       "    </tr>\n",
       "    <tr>\n",
       "      <th>1</th>\n",
       "      <td>2</td>\n",
       "      <td>2011-05-20</td>\n",
       "      <td>Pirates of the Caribbean: On Stranger Tides</td>\n",
       "      <td>410,600,000</td>\n",
       "      <td>241,063,875</td>\n",
       "      <td>1,045,663,875</td>\n",
       "    </tr>\n",
       "    <tr>\n",
       "      <th>2</th>\n",
       "      <td>3</td>\n",
       "      <td>2019-06-07</td>\n",
       "      <td>Dark Phoenix</td>\n",
       "      <td>350,000,000</td>\n",
       "      <td>42,762,350</td>\n",
       "      <td>149,762,350</td>\n",
       "    </tr>\n",
       "    <tr>\n",
       "      <th>3</th>\n",
       "      <td>4</td>\n",
       "      <td>2015-05-01</td>\n",
       "      <td>Avengers: Age of Ultron</td>\n",
       "      <td>330,600,000</td>\n",
       "      <td>459,005,868</td>\n",
       "      <td>1,403,013,963</td>\n",
       "    </tr>\n",
       "    <tr>\n",
       "      <th>4</th>\n",
       "      <td>5</td>\n",
       "      <td>2017-12-15</td>\n",
       "      <td>Star Wars Ep. VIII: The Last Jedi</td>\n",
       "      <td>317,000,000</td>\n",
       "      <td>620,181,382</td>\n",
       "      <td>1,316,721,747</td>\n",
       "    </tr>\n",
       "  </tbody>\n",
       "</table>\n",
       "</div>"
      ],
      "text/plain": [
       "   id release_date                                        movie  \\\n",
       "0   1   2009-12-18                                       Avatar   \n",
       "1   2   2011-05-20  Pirates of the Caribbean: On Stranger Tides   \n",
       "2   3   2019-06-07                                 Dark Phoenix   \n",
       "3   4   2015-05-01                      Avengers: Age of Ultron   \n",
       "4   5   2017-12-15            Star Wars Ep. VIII: The Last Jedi   \n",
       "\n",
       "  production_budget domestic_gross worldwide_gross  \n",
       "0       425,000,000    760,507,625   2,776,345,279  \n",
       "1       410,600,000    241,063,875   1,045,663,875  \n",
       "2       350,000,000     42,762,350     149,762,350  \n",
       "3       330,600,000    459,005,868   1,403,013,963  \n",
       "4       317,000,000    620,181,382   1,316,721,747  "
      ]
     },
     "execution_count": 32,
     "metadata": {},
     "output_type": "execute_result"
    }
   ],
   "source": [
    "tn_movies_df.head()"
   ]
  },
  {
   "cell_type": "markdown",
   "metadata": {},
   "source": [
    "I will convert the budget column as well as the earning columns to numeric values and add a net_income column."
   ]
  },
  {
   "cell_type": "code",
   "execution_count": 33,
   "metadata": {},
   "outputs": [],
   "source": [
    "# Remove commas and convert columns to numeric\n",
    "tn_movies_df['production_budget'] = tn_movies_df['production_budget'].replace({',': ''}, regex=True).astype(float)\n",
    "tn_movies_df['domestic_gross'] = tn_movies_df['domestic_gross'].replace({',': ''}, regex=True).astype(float)\n",
    "tn_movies_df['worldwide_gross'] = tn_movies_df['worldwide_gross'].replace({',': ''}, regex=True).astype(float)"
   ]
  },
  {
   "cell_type": "code",
   "execution_count": 34,
   "metadata": {
    "scrolled": true
   },
   "outputs": [
    {
     "data": {
      "text/html": [
       "<div>\n",
       "<style scoped>\n",
       "    .dataframe tbody tr th:only-of-type {\n",
       "        vertical-align: middle;\n",
       "    }\n",
       "\n",
       "    .dataframe tbody tr th {\n",
       "        vertical-align: top;\n",
       "    }\n",
       "\n",
       "    .dataframe thead th {\n",
       "        text-align: right;\n",
       "    }\n",
       "</style>\n",
       "<table border=\"1\" class=\"dataframe\">\n",
       "  <thead>\n",
       "    <tr style=\"text-align: right;\">\n",
       "      <th></th>\n",
       "      <th>id</th>\n",
       "      <th>release_date</th>\n",
       "      <th>movie</th>\n",
       "      <th>production_budget</th>\n",
       "      <th>domestic_gross</th>\n",
       "      <th>worldwide_gross</th>\n",
       "      <th>net_profit</th>\n",
       "      <th>release_month</th>\n",
       "    </tr>\n",
       "  </thead>\n",
       "  <tbody>\n",
       "    <tr>\n",
       "      <th>0</th>\n",
       "      <td>1</td>\n",
       "      <td>2009-12-18</td>\n",
       "      <td>Avatar</td>\n",
       "      <td>425,000,000.00</td>\n",
       "      <td>760,507,625.00</td>\n",
       "      <td>2,776,345,279.00</td>\n",
       "      <td>2,351,345,279.00</td>\n",
       "      <td>12</td>\n",
       "    </tr>\n",
       "    <tr>\n",
       "      <th>1</th>\n",
       "      <td>2</td>\n",
       "      <td>2011-05-20</td>\n",
       "      <td>Pirates of the Caribbean: On Stranger Tides</td>\n",
       "      <td>410,600,000.00</td>\n",
       "      <td>241,063,875.00</td>\n",
       "      <td>1,045,663,875.00</td>\n",
       "      <td>635,063,875.00</td>\n",
       "      <td>5</td>\n",
       "    </tr>\n",
       "    <tr>\n",
       "      <th>2</th>\n",
       "      <td>3</td>\n",
       "      <td>2019-06-07</td>\n",
       "      <td>Dark Phoenix</td>\n",
       "      <td>350,000,000.00</td>\n",
       "      <td>42,762,350.00</td>\n",
       "      <td>149,762,350.00</td>\n",
       "      <td>-200,237,650.00</td>\n",
       "      <td>6</td>\n",
       "    </tr>\n",
       "    <tr>\n",
       "      <th>3</th>\n",
       "      <td>4</td>\n",
       "      <td>2015-05-01</td>\n",
       "      <td>Avengers: Age of Ultron</td>\n",
       "      <td>330,600,000.00</td>\n",
       "      <td>459,005,868.00</td>\n",
       "      <td>1,403,013,963.00</td>\n",
       "      <td>1,072,413,963.00</td>\n",
       "      <td>5</td>\n",
       "    </tr>\n",
       "    <tr>\n",
       "      <th>4</th>\n",
       "      <td>5</td>\n",
       "      <td>2017-12-15</td>\n",
       "      <td>Star Wars Ep. VIII: The Last Jedi</td>\n",
       "      <td>317,000,000.00</td>\n",
       "      <td>620,181,382.00</td>\n",
       "      <td>1,316,721,747.00</td>\n",
       "      <td>999,721,747.00</td>\n",
       "      <td>12</td>\n",
       "    </tr>\n",
       "  </tbody>\n",
       "</table>\n",
       "</div>"
      ],
      "text/plain": [
       "   id release_date                                        movie  \\\n",
       "0   1   2009-12-18                                       Avatar   \n",
       "1   2   2011-05-20  Pirates of the Caribbean: On Stranger Tides   \n",
       "2   3   2019-06-07                                 Dark Phoenix   \n",
       "3   4   2015-05-01                      Avengers: Age of Ultron   \n",
       "4   5   2017-12-15            Star Wars Ep. VIII: The Last Jedi   \n",
       "\n",
       "   production_budget  domestic_gross  worldwide_gross       net_profit  \\\n",
       "0     425,000,000.00  760,507,625.00 2,776,345,279.00 2,351,345,279.00   \n",
       "1     410,600,000.00  241,063,875.00 1,045,663,875.00   635,063,875.00   \n",
       "2     350,000,000.00   42,762,350.00   149,762,350.00  -200,237,650.00   \n",
       "3     330,600,000.00  459,005,868.00 1,403,013,963.00 1,072,413,963.00   \n",
       "4     317,000,000.00  620,181,382.00 1,316,721,747.00   999,721,747.00   \n",
       "\n",
       "   release_month  \n",
       "0             12  \n",
       "1              5  \n",
       "2              6  \n",
       "3              5  \n",
       "4             12  "
      ]
     },
     "execution_count": 34,
     "metadata": {},
     "output_type": "execute_result"
    }
   ],
   "source": [
    "# add a column that calculates the net income.\n",
    "tn_movies_df['net_profit'] = tn_movies_df['worldwide_gross'] - tn_movies_df['production_budget']\n",
    "\n",
    "#create a new column \"release_month\" that contains the monthof the release date\n",
    "tn_movies_df['release_month'] = tn_movies_df['release_date'].dt.month\n",
    "\n",
    "# Set the display format for float columns\n",
    "pd.options.display.float_format = '{:,.2f}'.format\n",
    "\n",
    "# display updated data type\n",
    "tn_movies_df.head()"
   ]
  },
  {
   "cell_type": "code",
   "execution_count": 35,
   "metadata": {},
   "outputs": [],
   "source": [
    "# Save the DataFrame to the database as a table named 'movies_table'\n",
    "tn_movies_df.to_sql('movies_table', con, if_exists='replace', index=False)"
   ]
  },
  {
   "cell_type": "code",
   "execution_count": 36,
   "metadata": {
    "scrolled": true
   },
   "outputs": [
    {
     "data": {
      "text/html": [
       "<div>\n",
       "<style scoped>\n",
       "    .dataframe tbody tr th:only-of-type {\n",
       "        vertical-align: middle;\n",
       "    }\n",
       "\n",
       "    .dataframe tbody tr th {\n",
       "        vertical-align: top;\n",
       "    }\n",
       "\n",
       "    .dataframe thead th {\n",
       "        text-align: right;\n",
       "    }\n",
       "</style>\n",
       "<table border=\"1\" class=\"dataframe\">\n",
       "  <thead>\n",
       "    <tr style=\"text-align: right;\">\n",
       "      <th></th>\n",
       "      <th>release_date</th>\n",
       "      <th>movie</th>\n",
       "      <th>net_profit</th>\n",
       "      <th>release_month</th>\n",
       "    </tr>\n",
       "  </thead>\n",
       "  <tbody>\n",
       "    <tr>\n",
       "      <th>0</th>\n",
       "      <td>2009-12-18 00:00:00</td>\n",
       "      <td>Avatar</td>\n",
       "      <td>2,351,345,279.00</td>\n",
       "      <td>12</td>\n",
       "    </tr>\n",
       "    <tr>\n",
       "      <th>1</th>\n",
       "      <td>1997-12-19 00:00:00</td>\n",
       "      <td>Titanic</td>\n",
       "      <td>2,008,208,395.00</td>\n",
       "      <td>12</td>\n",
       "    </tr>\n",
       "    <tr>\n",
       "      <th>2</th>\n",
       "      <td>2018-04-27 00:00:00</td>\n",
       "      <td>Avengers: Infinity War</td>\n",
       "      <td>1,748,134,200.00</td>\n",
       "      <td>4</td>\n",
       "    </tr>\n",
       "    <tr>\n",
       "      <th>3</th>\n",
       "      <td>2015-12-18 00:00:00</td>\n",
       "      <td>Star Wars Ep. VII: The Force Awakens</td>\n",
       "      <td>1,747,311,220.00</td>\n",
       "      <td>12</td>\n",
       "    </tr>\n",
       "    <tr>\n",
       "      <th>4</th>\n",
       "      <td>2015-06-12 00:00:00</td>\n",
       "      <td>Jurassic World</td>\n",
       "      <td>1,433,854,864.00</td>\n",
       "      <td>6</td>\n",
       "    </tr>\n",
       "  </tbody>\n",
       "</table>\n",
       "</div>"
      ],
      "text/plain": [
       "          release_date                                 movie       net_profit  \\\n",
       "0  2009-12-18 00:00:00                                Avatar 2,351,345,279.00   \n",
       "1  1997-12-19 00:00:00                               Titanic 2,008,208,395.00   \n",
       "2  2018-04-27 00:00:00                Avengers: Infinity War 1,748,134,200.00   \n",
       "3  2015-12-18 00:00:00  Star Wars Ep. VII: The Force Awakens 1,747,311,220.00   \n",
       "4  2015-06-12 00:00:00                        Jurassic World 1,433,854,864.00   \n",
       "\n",
       "   release_month  \n",
       "0             12  \n",
       "1             12  \n",
       "2              4  \n",
       "3             12  \n",
       "4              6  "
      ]
     },
     "execution_count": 36,
     "metadata": {},
     "output_type": "execute_result"
    }
   ],
   "source": [
    "# write a query that gets the highest net_profit and assign it to variable q \n",
    "q = \"\"\"SELECT release_date, movie, net_profit, release_month\n",
    "        FROM movies_table\n",
    "        ORDER BY net_profit DESC\n",
    "        \"\"\"\n",
    "df1 =pd.read_sql(q,con)\n",
    "df1.head()"
   ]
  },
  {
   "cell_type": "markdown",
   "metadata": {},
   "source": [
    "Based on the information we are able to know that the movie with the highest net profit was avatar. \n",
    "\n",
    "Next I would love to see the effect that the release month had on the overall net income.\n",
    "\n",
    "To find the relationship between \"release_month_ and \"net_profit\", I will use the SQLite database connection and run an SQL query to calculate the averagenet profit for each month. this will help understand if there are any patterns or trends based on the release month of the movies. "
   ]
  },
  {
   "cell_type": "code",
   "execution_count": 37,
   "metadata": {
    "scrolled": false
   },
   "outputs": [
    {
     "data": {
      "text/html": [
       "<div>\n",
       "<style scoped>\n",
       "    .dataframe tbody tr th:only-of-type {\n",
       "        vertical-align: middle;\n",
       "    }\n",
       "\n",
       "    .dataframe tbody tr th {\n",
       "        vertical-align: top;\n",
       "    }\n",
       "\n",
       "    .dataframe thead th {\n",
       "        text-align: right;\n",
       "    }\n",
       "</style>\n",
       "<table border=\"1\" class=\"dataframe\">\n",
       "  <thead>\n",
       "    <tr style=\"text-align: right;\">\n",
       "      <th></th>\n",
       "      <th>release_month</th>\n",
       "      <th>average_net_profit</th>\n",
       "    </tr>\n",
       "  </thead>\n",
       "  <tbody>\n",
       "    <tr>\n",
       "      <th>0</th>\n",
       "      <td>1</td>\n",
       "      <td>25,720,334.11</td>\n",
       "    </tr>\n",
       "    <tr>\n",
       "      <th>1</th>\n",
       "      <td>2</td>\n",
       "      <td>43,498,106.82</td>\n",
       "    </tr>\n",
       "    <tr>\n",
       "      <th>2</th>\n",
       "      <td>3</td>\n",
       "      <td>49,851,292.36</td>\n",
       "    </tr>\n",
       "    <tr>\n",
       "      <th>3</th>\n",
       "      <td>4</td>\n",
       "      <td>36,117,428.17</td>\n",
       "    </tr>\n",
       "    <tr>\n",
       "      <th>4</th>\n",
       "      <td>5</td>\n",
       "      <td>115,132,808.40</td>\n",
       "    </tr>\n",
       "    <tr>\n",
       "      <th>5</th>\n",
       "      <td>6</td>\n",
       "      <td>99,423,910.95</td>\n",
       "    </tr>\n",
       "    <tr>\n",
       "      <th>6</th>\n",
       "      <td>7</td>\n",
       "      <td>98,417,458.36</td>\n",
       "    </tr>\n",
       "    <tr>\n",
       "      <th>7</th>\n",
       "      <td>8</td>\n",
       "      <td>35,422,316.86</td>\n",
       "    </tr>\n",
       "    <tr>\n",
       "      <th>8</th>\n",
       "      <td>9</td>\n",
       "      <td>24,880,784.87</td>\n",
       "    </tr>\n",
       "    <tr>\n",
       "      <th>9</th>\n",
       "      <td>10</td>\n",
       "      <td>29,071,903.78</td>\n",
       "    </tr>\n",
       "    <tr>\n",
       "      <th>10</th>\n",
       "      <td>11</td>\n",
       "      <td>93,141,569.25</td>\n",
       "    </tr>\n",
       "    <tr>\n",
       "      <th>11</th>\n",
       "      <td>12</td>\n",
       "      <td>68,441,565.31</td>\n",
       "    </tr>\n",
       "  </tbody>\n",
       "</table>\n",
       "</div>"
      ],
      "text/plain": [
       "    release_month  average_net_profit\n",
       "0               1       25,720,334.11\n",
       "1               2       43,498,106.82\n",
       "2               3       49,851,292.36\n",
       "3               4       36,117,428.17\n",
       "4               5      115,132,808.40\n",
       "5               6       99,423,910.95\n",
       "6               7       98,417,458.36\n",
       "7               8       35,422,316.86\n",
       "8               9       24,880,784.87\n",
       "9              10       29,071,903.78\n",
       "10             11       93,141,569.25\n",
       "11             12       68,441,565.31"
      ]
     },
     "execution_count": 37,
     "metadata": {},
     "output_type": "execute_result"
    }
   ],
   "source": [
    "# SQL query to calculate the average net profit for each release month\n",
    "query = \"\"\"\n",
    "    SELECT release_month, AVG(net_profit) AS average_net_profit\n",
    "    FROM movies_table\n",
    "    GROUP BY release_month\n",
    "    ORDER BY release_month\n",
    "\"\"\"\n",
    "\n",
    "# Execute the query and read the result into a DataFrame\n",
    "average_net_profit_by_month = pd.read_sql(query, con)\n",
    "average_net_profit_by_month "
   ]
  },
  {
   "cell_type": "markdown",
   "metadata": {},
   "source": [
    "Plot a bar plot to show the findings"
   ]
  },
  {
   "cell_type": "code",
   "execution_count": 38,
   "metadata": {},
   "outputs": [
    {
     "data": {
      "image/png": "[encoded data removed]",
      "text/plain": [
       "<Figure size 720x432 with 1 Axes>"
      ]
     },
     "metadata": {},
     "output_type": "display_data"
    }
   ],
   "source": [
    "# Set the style for the plot \n",
    "sns.set(style='whitegrid')\n",
    "\n",
    "# Create the bar plot\n",
    "plt.figure(figsize=(10, 6))  # Adjust the figure size as per your preference\n",
    "sns.barplot(x='release_month', y='average_net_profit', data=average_net_profit_by_month)\n",
    "\n",
    "# Add labels and title\n",
    "plt.xlabel('Release Month')\n",
    "plt.ylabel('Average Net Profit')\n",
    "plt.title('Average Net Profit by Release Month')\n",
    "\n",
    "# Show the plot\n",
    "plt.show()\n"
   ]
  },
  {
   "cell_type": "markdown",
   "metadata": {},
   "source": [
    "This shows that movies released in the months of May, June and July, have the highest average net profit, while movies released on the months of January and September have the lowest average net profit. \n",
    "\n",
    "One of the reasons would be because the Summer Soltice begins around the period of June, July and August with many sales being a month before the beginning of summer to explain the preparation for it while sales decline on August to show the end of the season. \n",
    "\n",
    "Another reason for the sales hike in the months of November and December is due to the fact that they are the holiday months in the entire globe.\n",
    "\n",
    "Entertainment is needed in both of these seasons."
   ]
  },
  {
   "cell_type": "markdown",
   "metadata": {},
   "source": [
    "# WHICH MOVIES HAVE HAD THE HIGHEST ROI(RETURN ON INVESTMENT) ON PRODUCTION BUDGETS AND BOX OFFICE EARNINGS."
   ]
  },
  {
   "cell_type": "markdown",
   "metadata": {},
   "source": [
    "ROI is a financial metric that measures the profitability of an investment. It is calculated by dividing the net profit or loss of an investment by its initial cost or outlay and multiplying the result by 100 to get a percentage.\n",
    "\n"
   ]
  },
  {
   "cell_type": "code",
   "execution_count": 39,
   "metadata": {
    "scrolled": true
   },
   "outputs": [
    {
     "data": {
      "text/html": [
       "<div>\n",
       "<style scoped>\n",
       "    .dataframe tbody tr th:only-of-type {\n",
       "        vertical-align: middle;\n",
       "    }\n",
       "\n",
       "    .dataframe tbody tr th {\n",
       "        vertical-align: top;\n",
       "    }\n",
       "\n",
       "    .dataframe thead th {\n",
       "        text-align: right;\n",
       "    }\n",
       "</style>\n",
       "<table border=\"1\" class=\"dataframe\">\n",
       "  <thead>\n",
       "    <tr style=\"text-align: right;\">\n",
       "      <th></th>\n",
       "      <th>id</th>\n",
       "      <th>release_date</th>\n",
       "      <th>movie</th>\n",
       "      <th>production_budget</th>\n",
       "      <th>domestic_gross</th>\n",
       "      <th>worldwide_gross</th>\n",
       "      <th>net_profit</th>\n",
       "      <th>release_month</th>\n",
       "    </tr>\n",
       "  </thead>\n",
       "  <tbody>\n",
       "    <tr>\n",
       "      <th>0</th>\n",
       "      <td>1</td>\n",
       "      <td>2009-12-18</td>\n",
       "      <td>Avatar</td>\n",
       "      <td>425,000,000.00</td>\n",
       "      <td>760,507,625.00</td>\n",
       "      <td>2,776,345,279.00</td>\n",
       "      <td>2,351,345,279.00</td>\n",
       "      <td>12</td>\n",
       "    </tr>\n",
       "    <tr>\n",
       "      <th>1</th>\n",
       "      <td>2</td>\n",
       "      <td>2011-05-20</td>\n",
       "      <td>Pirates of the Caribbean: On Stranger Tides</td>\n",
       "      <td>410,600,000.00</td>\n",
       "      <td>241,063,875.00</td>\n",
       "      <td>1,045,663,875.00</td>\n",
       "      <td>635,063,875.00</td>\n",
       "      <td>5</td>\n",
       "    </tr>\n",
       "    <tr>\n",
       "      <th>2</th>\n",
       "      <td>3</td>\n",
       "      <td>2019-06-07</td>\n",
       "      <td>Dark Phoenix</td>\n",
       "      <td>350,000,000.00</td>\n",
       "      <td>42,762,350.00</td>\n",
       "      <td>149,762,350.00</td>\n",
       "      <td>-200,237,650.00</td>\n",
       "      <td>6</td>\n",
       "    </tr>\n",
       "    <tr>\n",
       "      <th>3</th>\n",
       "      <td>4</td>\n",
       "      <td>2015-05-01</td>\n",
       "      <td>Avengers: Age of Ultron</td>\n",
       "      <td>330,600,000.00</td>\n",
       "      <td>459,005,868.00</td>\n",
       "      <td>1,403,013,963.00</td>\n",
       "      <td>1,072,413,963.00</td>\n",
       "      <td>5</td>\n",
       "    </tr>\n",
       "    <tr>\n",
       "      <th>4</th>\n",
       "      <td>5</td>\n",
       "      <td>2017-12-15</td>\n",
       "      <td>Star Wars Ep. VIII: The Last Jedi</td>\n",
       "      <td>317,000,000.00</td>\n",
       "      <td>620,181,382.00</td>\n",
       "      <td>1,316,721,747.00</td>\n",
       "      <td>999,721,747.00</td>\n",
       "      <td>12</td>\n",
       "    </tr>\n",
       "  </tbody>\n",
       "</table>\n",
       "</div>"
      ],
      "text/plain": [
       "   id release_date                                        movie  \\\n",
       "0   1   2009-12-18                                       Avatar   \n",
       "1   2   2011-05-20  Pirates of the Caribbean: On Stranger Tides   \n",
       "2   3   2019-06-07                                 Dark Phoenix   \n",
       "3   4   2015-05-01                      Avengers: Age of Ultron   \n",
       "4   5   2017-12-15            Star Wars Ep. VIII: The Last Jedi   \n",
       "\n",
       "   production_budget  domestic_gross  worldwide_gross       net_profit  \\\n",
       "0     425,000,000.00  760,507,625.00 2,776,345,279.00 2,351,345,279.00   \n",
       "1     410,600,000.00  241,063,875.00 1,045,663,875.00   635,063,875.00   \n",
       "2     350,000,000.00   42,762,350.00   149,762,350.00  -200,237,650.00   \n",
       "3     330,600,000.00  459,005,868.00 1,403,013,963.00 1,072,413,963.00   \n",
       "4     317,000,000.00  620,181,382.00 1,316,721,747.00   999,721,747.00   \n",
       "\n",
       "   release_month  \n",
       "0             12  \n",
       "1              5  \n",
       "2              6  \n",
       "3              5  \n",
       "4             12  "
      ]
     },
     "execution_count": 39,
     "metadata": {},
     "output_type": "execute_result"
    }
   ],
   "source": [
    "tn_movies_df.head()"
   ]
  },
  {
   "cell_type": "code",
   "execution_count": 40,
   "metadata": {},
   "outputs": [
    {
     "data": {
      "text/html": [
       "<div>\n",
       "<style scoped>\n",
       "    .dataframe tbody tr th:only-of-type {\n",
       "        vertical-align: middle;\n",
       "    }\n",
       "\n",
       "    .dataframe tbody tr th {\n",
       "        vertical-align: top;\n",
       "    }\n",
       "\n",
       "    .dataframe thead th {\n",
       "        text-align: right;\n",
       "    }\n",
       "</style>\n",
       "<table border=\"1\" class=\"dataframe\">\n",
       "  <thead>\n",
       "    <tr style=\"text-align: right;\">\n",
       "      <th></th>\n",
       "      <th>release_date</th>\n",
       "      <th>release_month</th>\n",
       "      <th>movie</th>\n",
       "      <th>production_budget</th>\n",
       "      <th>worldwide_gross</th>\n",
       "      <th>net_profit</th>\n",
       "    </tr>\n",
       "  </thead>\n",
       "  <tbody>\n",
       "    <tr>\n",
       "      <th>0</th>\n",
       "      <td>2009-12-18 00:00:00</td>\n",
       "      <td>12</td>\n",
       "      <td>Avatar</td>\n",
       "      <td>425,000,000.00</td>\n",
       "      <td>2,776,345,279.00</td>\n",
       "      <td>2,351,345,279.00</td>\n",
       "    </tr>\n",
       "    <tr>\n",
       "      <th>1</th>\n",
       "      <td>2011-05-20 00:00:00</td>\n",
       "      <td>5</td>\n",
       "      <td>Pirates of the Caribbean: On Stranger Tides</td>\n",
       "      <td>410,600,000.00</td>\n",
       "      <td>1,045,663,875.00</td>\n",
       "      <td>635,063,875.00</td>\n",
       "    </tr>\n",
       "    <tr>\n",
       "      <th>2</th>\n",
       "      <td>2019-06-07 00:00:00</td>\n",
       "      <td>6</td>\n",
       "      <td>Dark Phoenix</td>\n",
       "      <td>350,000,000.00</td>\n",
       "      <td>149,762,350.00</td>\n",
       "      <td>-200,237,650.00</td>\n",
       "    </tr>\n",
       "    <tr>\n",
       "      <th>3</th>\n",
       "      <td>2015-05-01 00:00:00</td>\n",
       "      <td>5</td>\n",
       "      <td>Avengers: Age of Ultron</td>\n",
       "      <td>330,600,000.00</td>\n",
       "      <td>1,403,013,963.00</td>\n",
       "      <td>1,072,413,963.00</td>\n",
       "    </tr>\n",
       "    <tr>\n",
       "      <th>4</th>\n",
       "      <td>2017-12-15 00:00:00</td>\n",
       "      <td>12</td>\n",
       "      <td>Star Wars Ep. VIII: The Last Jedi</td>\n",
       "      <td>317,000,000.00</td>\n",
       "      <td>1,316,721,747.00</td>\n",
       "      <td>999,721,747.00</td>\n",
       "    </tr>\n",
       "  </tbody>\n",
       "</table>\n",
       "</div>"
      ],
      "text/plain": [
       "          release_date  release_month  \\\n",
       "0  2009-12-18 00:00:00             12   \n",
       "1  2011-05-20 00:00:00              5   \n",
       "2  2019-06-07 00:00:00              6   \n",
       "3  2015-05-01 00:00:00              5   \n",
       "4  2017-12-15 00:00:00             12   \n",
       "\n",
       "                                         movie  production_budget  \\\n",
       "0                                       Avatar     425,000,000.00   \n",
       "1  Pirates of the Caribbean: On Stranger Tides     410,600,000.00   \n",
       "2                                 Dark Phoenix     350,000,000.00   \n",
       "3                      Avengers: Age of Ultron     330,600,000.00   \n",
       "4            Star Wars Ep. VIII: The Last Jedi     317,000,000.00   \n",
       "\n",
       "   worldwide_gross       net_profit  \n",
       "0 2,776,345,279.00 2,351,345,279.00  \n",
       "1 1,045,663,875.00   635,063,875.00  \n",
       "2   149,762,350.00  -200,237,650.00  \n",
       "3 1,403,013,963.00 1,072,413,963.00  \n",
       "4 1,316,721,747.00   999,721,747.00  "
      ]
     },
     "execution_count": 40,
     "metadata": {},
     "output_type": "execute_result"
    }
   ],
   "source": [
    "# write a query that will display the release_date, movie, production_budget, worldwide_gross and net_profit\n",
    "query3 = \"\"\"SELECT release_date, release_month, movie, production_budget, worldwide_gross, net_profit\n",
    "            FROM movies_table;\"\"\"\n",
    "\n",
    "# display the dataframe\n",
    "roi_df = pd.read_sql(query3,con)\n",
    "roi_df.head()"
   ]
  },
  {
   "cell_type": "code",
   "execution_count": 41,
   "metadata": {},
   "outputs": [
    {
     "data": {
      "text/html": [
       "<div>\n",
       "<style scoped>\n",
       "    .dataframe tbody tr th:only-of-type {\n",
       "        vertical-align: middle;\n",
       "    }\n",
       "\n",
       "    .dataframe tbody tr th {\n",
       "        vertical-align: top;\n",
       "    }\n",
       "\n",
       "    .dataframe thead th {\n",
       "        text-align: right;\n",
       "    }\n",
       "</style>\n",
       "<table border=\"1\" class=\"dataframe\">\n",
       "  <thead>\n",
       "    <tr style=\"text-align: right;\">\n",
       "      <th></th>\n",
       "      <th>release_date</th>\n",
       "      <th>release_month</th>\n",
       "      <th>movie</th>\n",
       "      <th>production_budget</th>\n",
       "      <th>worldwide_gross</th>\n",
       "      <th>net_profit</th>\n",
       "      <th>ROI</th>\n",
       "    </tr>\n",
       "  </thead>\n",
       "  <tbody>\n",
       "    <tr>\n",
       "      <th>5745</th>\n",
       "      <td>1972-06-30 00:00:00</td>\n",
       "      <td>6</td>\n",
       "      <td>Deep Throat</td>\n",
       "      <td>25,000.00</td>\n",
       "      <td>45,000,000.00</td>\n",
       "      <td>44,975,000.00</td>\n",
       "      <td>179,900.00</td>\n",
       "    </tr>\n",
       "    <tr>\n",
       "      <th>5613</th>\n",
       "      <td>1980-03-21 00:00:00</td>\n",
       "      <td>3</td>\n",
       "      <td>Mad Max</td>\n",
       "      <td>200,000.00</td>\n",
       "      <td>99,750,000.00</td>\n",
       "      <td>99,550,000.00</td>\n",
       "      <td>49,775.00</td>\n",
       "    </tr>\n",
       "    <tr>\n",
       "      <th>5492</th>\n",
       "      <td>2009-09-25 00:00:00</td>\n",
       "      <td>9</td>\n",
       "      <td>Paranormal Activity</td>\n",
       "      <td>450,000.00</td>\n",
       "      <td>194,183,034.00</td>\n",
       "      <td>193,733,034.00</td>\n",
       "      <td>43,051.79</td>\n",
       "    </tr>\n",
       "    <tr>\n",
       "      <th>5679</th>\n",
       "      <td>2015-07-10 00:00:00</td>\n",
       "      <td>7</td>\n",
       "      <td>The Gallows</td>\n",
       "      <td>100,000.00</td>\n",
       "      <td>41,656,474.00</td>\n",
       "      <td>41,556,474.00</td>\n",
       "      <td>41,556.47</td>\n",
       "    </tr>\n",
       "    <tr>\n",
       "      <th>5406</th>\n",
       "      <td>1999-07-14 00:00:00</td>\n",
       "      <td>7</td>\n",
       "      <td>The Blair Witch Project</td>\n",
       "      <td>600,000.00</td>\n",
       "      <td>248,300,000.00</td>\n",
       "      <td>247,700,000.00</td>\n",
       "      <td>41,283.33</td>\n",
       "    </tr>\n",
       "  </tbody>\n",
       "</table>\n",
       "</div>"
      ],
      "text/plain": [
       "             release_date  release_month                    movie  \\\n",
       "5745  1972-06-30 00:00:00              6              Deep Throat   \n",
       "5613  1980-03-21 00:00:00              3                  Mad Max   \n",
       "5492  2009-09-25 00:00:00              9      Paranormal Activity   \n",
       "5679  2015-07-10 00:00:00              7              The Gallows   \n",
       "5406  1999-07-14 00:00:00              7  The Blair Witch Project   \n",
       "\n",
       "      production_budget  worldwide_gross     net_profit        ROI  \n",
       "5745          25,000.00    45,000,000.00  44,975,000.00 179,900.00  \n",
       "5613         200,000.00    99,750,000.00  99,550,000.00  49,775.00  \n",
       "5492         450,000.00   194,183,034.00 193,733,034.00  43,051.79  \n",
       "5679         100,000.00    41,656,474.00  41,556,474.00  41,556.47  \n",
       "5406         600,000.00   248,300,000.00 247,700,000.00  41,283.33  "
      ]
     },
     "execution_count": 41,
     "metadata": {},
     "output_type": "execute_result"
    }
   ],
   "source": [
    "# Calculate ROI for each movie\n",
    "roi_df['ROI'] = (roi_df['net_profit'] / roi_df['production_budget']) * 100\n",
    "\n",
    "# Sort the DataFrame in descending order based on ROI\n",
    "roi_df = roi_df.sort_values(by='ROI', ascending=False)\n",
    "roi_df.head()"
   ]
  },
  {
   "cell_type": "markdown",
   "metadata": {},
   "source": [
    "Having found the ROI of different movies, we will use these information to get to know the relationship between production budgets and the ROIs. \n",
    "\n",
    "I will also investigate to know the whether the release dates of a movie impacts the ROI. \n",
    "\n",
    "To start off I will look into the univarient analysis."
   ]
  },
  {
   "cell_type": "markdown",
   "metadata": {},
   "source": [
    "## Univarient Analysis"
   ]
  },
  {
   "cell_type": "code",
   "execution_count": 42,
   "metadata": {},
   "outputs": [
    {
     "data": {
      "text/html": [
       "<div>\n",
       "<style scoped>\n",
       "    .dataframe tbody tr th:only-of-type {\n",
       "        vertical-align: middle;\n",
       "    }\n",
       "\n",
       "    .dataframe tbody tr th {\n",
       "        vertical-align: top;\n",
       "    }\n",
       "\n",
       "    .dataframe thead th {\n",
       "        text-align: right;\n",
       "    }\n",
       "</style>\n",
       "<table border=\"1\" class=\"dataframe\">\n",
       "  <thead>\n",
       "    <tr style=\"text-align: right;\">\n",
       "      <th></th>\n",
       "      <th>release_month</th>\n",
       "      <th>production_budget</th>\n",
       "      <th>worldwide_gross</th>\n",
       "      <th>net_profit</th>\n",
       "      <th>ROI</th>\n",
       "    </tr>\n",
       "  </thead>\n",
       "  <tbody>\n",
       "    <tr>\n",
       "      <th>count</th>\n",
       "      <td>5,782.00</td>\n",
       "      <td>5,782.00</td>\n",
       "      <td>5,782.00</td>\n",
       "      <td>5,782.00</td>\n",
       "      <td>5,782.00</td>\n",
       "    </tr>\n",
       "    <tr>\n",
       "      <th>mean</th>\n",
       "      <td>7.05</td>\n",
       "      <td>31,587,757.10</td>\n",
       "      <td>91,487,460.91</td>\n",
       "      <td>59,899,703.81</td>\n",
       "      <td>380.02</td>\n",
       "    </tr>\n",
       "    <tr>\n",
       "      <th>std</th>\n",
       "      <td>3.48</td>\n",
       "      <td>41,812,076.83</td>\n",
       "      <td>174,719,968.78</td>\n",
       "      <td>146,088,881.08</td>\n",
       "      <td>2,953.03</td>\n",
       "    </tr>\n",
       "    <tr>\n",
       "      <th>min</th>\n",
       "      <td>1.00</td>\n",
       "      <td>1,100.00</td>\n",
       "      <td>0.00</td>\n",
       "      <td>-200,237,650.00</td>\n",
       "      <td>-100.00</td>\n",
       "    </tr>\n",
       "    <tr>\n",
       "      <th>25%</th>\n",
       "      <td>4.00</td>\n",
       "      <td>5,000,000.00</td>\n",
       "      <td>4,125,414.75</td>\n",
       "      <td>-2,189,070.75</td>\n",
       "      <td>-50.77</td>\n",
       "    </tr>\n",
       "    <tr>\n",
       "      <th>50%</th>\n",
       "      <td>7.00</td>\n",
       "      <td>17,000,000.00</td>\n",
       "      <td>27,984,448.50</td>\n",
       "      <td>8,550,285.50</td>\n",
       "      <td>70.83</td>\n",
       "    </tr>\n",
       "    <tr>\n",
       "      <th>75%</th>\n",
       "      <td>10.00</td>\n",
       "      <td>40,000,000.00</td>\n",
       "      <td>97,645,836.50</td>\n",
       "      <td>60,968,501.75</td>\n",
       "      <td>275.83</td>\n",
       "    </tr>\n",
       "    <tr>\n",
       "      <th>max</th>\n",
       "      <td>12.00</td>\n",
       "      <td>425,000,000.00</td>\n",
       "      <td>2,776,345,279.00</td>\n",
       "      <td>2,351,345,279.00</td>\n",
       "      <td>179,900.00</td>\n",
       "    </tr>\n",
       "  </tbody>\n",
       "</table>\n",
       "</div>"
      ],
      "text/plain": [
       "       release_month  production_budget  worldwide_gross       net_profit  \\\n",
       "count       5,782.00           5,782.00         5,782.00         5,782.00   \n",
       "mean            7.05      31,587,757.10    91,487,460.91    59,899,703.81   \n",
       "std             3.48      41,812,076.83   174,719,968.78   146,088,881.08   \n",
       "min             1.00           1,100.00             0.00  -200,237,650.00   \n",
       "25%             4.00       5,000,000.00     4,125,414.75    -2,189,070.75   \n",
       "50%             7.00      17,000,000.00    27,984,448.50     8,550,285.50   \n",
       "75%            10.00      40,000,000.00    97,645,836.50    60,968,501.75   \n",
       "max            12.00     425,000,000.00 2,776,345,279.00 2,351,345,279.00   \n",
       "\n",
       "             ROI  \n",
       "count   5,782.00  \n",
       "mean      380.02  \n",
       "std     2,953.03  \n",
       "min      -100.00  \n",
       "25%       -50.77  \n",
       "50%        70.83  \n",
       "75%       275.83  \n",
       "max   179,900.00  "
      ]
     },
     "execution_count": 42,
     "metadata": {},
     "output_type": "execute_result"
    }
   ],
   "source": [
    "roi_df.describe()"
   ]
  },
  {
   "cell_type": "markdown",
   "metadata": {},
   "source": [
    "Here I will plot histograms for each in order to have a clear picture of what is happening."
   ]
  },
  {
   "cell_type": "code",
   "execution_count": 43,
   "metadata": {},
   "outputs": [
    {
     "data": {
      "image/png": "[encoded data removed]",
      "text/plain": [
       "<Figure size 720x432 with 1 Axes>"
      ]
     },
     "metadata": {},
     "output_type": "display_data"
    },
    {
     "data": {
      "image/png": "[encoded data removed]",
      "text/plain": [
       "<Figure size 864x720 with 4 Axes>"
      ]
     },
     "metadata": {},
     "output_type": "display_data"
    }
   ],
   "source": [
    "# Box plots\n",
    "roi_df.boxplot(column=['production_budget', 'worldwide_gross', 'net_profit', 'ROI'], figsize=(10, 6))\n",
    "plt.title(\"Box Plots for ROI Data\")\n",
    "plt.ylabel(\"Amount (in billions)\")\n",
    "plt.xticks(rotation=45)\n",
    "plt.show()\n",
    "\n",
    "# Create subplots for each column\n",
    "fig, axes = plt.subplots(2, 2, figsize=(12, 10))\n",
    "fig.suptitle(\"Histograms for ROI Data\")\n",
    "\n",
    "# Plot histograms\n",
    "axes[0, 0].hist(roi_df['production_budget'], bins=5, color='skyblue', edgecolor='black')\n",
    "axes[0, 0].set_title(\"Production Budget\")\n",
    "axes[0, 1].hist(roi_df['worldwide_gross'], bins=5, color='lightgreen', edgecolor='black')\n",
    "axes[0, 1].set_title(\"Worldwide Gross\")\n",
    "axes[1, 0].hist(roi_df['net_profit'], bins=5, color='salmon', edgecolor='black')\n",
    "axes[1, 0].set_title(\"Net Profit\")\n",
    "axes[1, 1].hist(roi_df['ROI'], bins=5, color='gold', edgecolor='black')\n",
    "axes[1, 1].set_title(\"ROI\")\n",
    "\n",
    "# Set labels and layout\n",
    "for ax in axes.flatten():\n",
    "    ax.set_xlabel(\"Value\")\n",
    "    ax.set_ylabel(\"Frequency\")\n",
    "\n",
    "plt.tight_layout()\n",
    "plt.show()\n"
   ]
  },
  {
   "cell_type": "markdown",
   "metadata": {},
   "source": [
    "Interpretation of the Univariate Analysis for `roi_df`:\n",
    "\n",
    "1. Summary Statistics:\n",
    "   - `production_budget`: The average production budget for movies in the dataset is approximately 31.59 million dollars, with a minimum of 1.1 million dollars and a maximum of 425 million dollars.\n",
    "   - `worldwide_gross`: The average worldwide gross revenue for movies is approximately 91.49 million, with a minimum of 0 (some movies made no profit) and a maximum of 2.77 billion.\n",
    "   - `net_profit`: The average net profit (worldwide gross - production budget) is approximately 59.90 million, with a minimum loss of 200 million and a maximum profit of 2.35 billion.\n",
    "   - `ROI`: The average return on investment is approximately 380%, with some movies achieving extremely high ROIs, up to 179,900%.\n",
    "\n",
    "2. Box Plots:\n",
    "   - The box plots give an overview of the distribution and dispersion of each numerical column.\n",
    "   - `production_budget`: There are some movies with significantly higher budgets (outliers) compared to the majority, which have lower budgets.\n",
    "   - `worldwide_gross`: Similar to production budget, some movies achieved very high worldwide gross (outliers) compared to the majority.\n",
    "   - `net_profit`: The net profit box plot shows that the majority of movies have positive net profits, but there are also some movies with substantial losses (outliers).\n",
    "   - `ROI`: The ROI box plot highlights that most movies have positive ROIs, while some have very high ROIs, indicating highly successful movies.\n",
    "\n",
    "3. Histograms:\n",
    "   - Histograms provide a visual representation of the distribution of each column.\n",
    "   - `production_budget`: Most movies have production budgets below 50 million dollars, with a smaller number of movies having higher budgets.\n",
    "   - `worldwide_gross`: The histogram shows that a majority of movies earned less than 200 million dollars worldwide, while a few blockbuster movies achieved much higher gross revenue.\n",
    "   - `net_profit`: The majority of movies achieved positive net profits, but there are a few movies with substantial losses.\n",
    "   - `ROI`: The histogram demonstrates that most movies have positive ROIs, but a small number of movies have exceptionally high ROIs.\n",
    "\n",
    "Overall, the analysis reveals that the film industry exhibits a wide range of budgets, revenues, and profitability. It is common for successful movies to generate high ROIs, but there are also instances of movies with significant losses. Understanding these patterns and trends can help movie studios make informed decisions about their film investments, identify potential success factors, and focus on genres or storylines that have historically resonated well with audiences."
   ]
  },
  {
   "cell_type": "markdown",
   "metadata": {},
   "source": [
    "## Bivarient Analysis"
   ]
  },
  {
   "cell_type": "markdown",
   "metadata": {},
   "source": [
    "### Correlation between budget and ROI"
   ]
  },
  {
   "cell_type": "code",
   "execution_count": 44,
   "metadata": {
    "scrolled": true
   },
   "outputs": [
    {
     "name": "stdout",
     "output_type": "stream",
     "text": [
      "Correlation between production budget and ROI: -0.04871481362951167\n"
     ]
    }
   ],
   "source": [
    "# Calculate the correlation between production budget and ROI\n",
    "correlation = roi_df['production_budget'].corr(roi_df['ROI'])\n",
    "\n",
    "# Print the correlation coefficient\n",
    "print(\"Correlation between production budget and ROI:\", correlation)"
   ]
  },
  {
   "cell_type": "markdown",
   "metadata": {},
   "source": [
    "The correlation coefficient suggests a very weak negative linear relationship between the production budget and the ROI. \n",
    "\n",
    "The negative sign of the correlation coefficient (-0.0487) indicates that there is a very slight tendency for higher production budgets to be associated with slightly lower ROIs. However, this negative correlation is so weak that it is not practically meaningful.\n",
    "The value of -0.0487 being close to zero suggests that there is almost no linear relationship between the production budget and ROI in the dataset. In other words, there is no clear pattern where higher budgets consistently lead to either higher or lower ROIs.\n",
    "\n",
    "I will plot a scatter plot to visualize the same"
   ]
  },
  {
   "cell_type": "code",
   "execution_count": 45,
   "metadata": {},
   "outputs": [
    {
     "data": {
      "image/png": "[encoded data removed]",
      "text/plain": [
       "<Figure size 720x432 with 1 Axes>"
      ]
     },
     "metadata": {},
     "output_type": "display_data"
    }
   ],
   "source": [
    "# Create a scatter plot\n",
    "plt.figure(figsize=(10, 6))\n",
    "sns.scatterplot(data=roi_df, x='production_budget', y='ROI', alpha=0.5)\n",
    "plt.xlabel('Production Budget')\n",
    "plt.ylabel('ROI')\n",
    "plt.title('Scatter Plot: Production Budget vs. ROI')\n",
    "plt.show()\n"
   ]
  },
  {
   "cell_type": "markdown",
   "metadata": {},
   "source": [
    "This further indicates that there is no interferance with the ROI whether the budget is increased or not. \n",
    "this indicates that other factors like marketing, genre, release dates and audience reception  have a better sinificance."
   ]
  },
  {
   "cell_type": "markdown",
   "metadata": {},
   "source": [
    "### Effect of the release months and seasons to the ROI"
   ]
  },
  {
   "cell_type": "markdown",
   "metadata": {},
   "source": [
    "To investigate whether the release month or season has any influence on ROI, I will;\n",
    "Extract the release month and season from the \"release_date\" column, group the data by release month or season,\n",
    "Calculate the average ROI for each group and\n",
    "Visualize the results using appropriate plots."
   ]
  },
  {
   "cell_type": "code",
   "execution_count": 46,
   "metadata": {},
   "outputs": [
    {
     "name": "stdout",
     "output_type": "stream",
     "text": [
      "Average ROI by Release Month:\n",
      "release_month\n",
      "1    319.90\n",
      "2    354.78\n",
      "3    344.96\n",
      "4    277.67\n",
      "5    435.10\n",
      "6    688.97\n",
      "7    504.01\n",
      "8    438.04\n",
      "9    282.45\n",
      "10   408.91\n",
      "11   350.36\n",
      "12   226.86\n",
      "Name: ROI, dtype: float64\n",
      "\n",
      "Average ROI by Release Season:\n",
      "release_season\n",
      "Fall     350.41\n",
      "Spring   349.57\n",
      "Summer   543.50\n",
      "Winter   282.41\n",
      "Name: ROI, dtype: float64\n"
     ]
    }
   ],
   "source": [
    "# Function to get the season based on the month\n",
    "def get_season(month):\n",
    "    if month in [12, 1, 2]:  # Winter (December, January, February)\n",
    "        return 'Winter'\n",
    "    elif month in [3, 4, 5]:  # Spring (March, April, May)\n",
    "        return 'Spring'\n",
    "    elif month in [6, 7, 8]:  # Summer (June, July, August)\n",
    "        return 'Summer'\n",
    "    else:  # Fall (September, October, November)\n",
    "        return 'Fall'\n",
    "\n",
    "# Create a new column for the season based on the release month\n",
    "roi_df['release_season'] = roi_df['release_month'].apply(get_season)\n",
    "\n",
    "# Group by release month and calculate average ROI\n",
    "month_roi = roi_df.groupby('release_month')['ROI'].mean()\n",
    "\n",
    "# Group by release season and calculate average ROI\n",
    "season_roi = roi_df.groupby('release_season')['ROI'].mean()\n",
    "\n",
    "# Print the results\n",
    "print(\"Average ROI by Release Month:\")\n",
    "print(month_roi)\n",
    "\n",
    "print(\"\\nAverage ROI by Release Season:\")\n",
    "print(season_roi)\n"
   ]
  },
  {
   "cell_type": "markdown",
   "metadata": {},
   "source": [
    "I will then plot a bar plot to visualize my findings"
   ]
  },
  {
   "cell_type": "code",
   "execution_count": 47,
   "metadata": {},
   "outputs": [
    {
     "data": {
      "image/png": "[encoded data removed]",
      "text/plain": [
       "<Figure size 720x432 with 1 Axes>"
      ]
     },
     "metadata": {},
     "output_type": "display_data"
    },
    {
     "data": {
      "image/png": "[encoded data removed]",
      "text/plain": [
       "<Figure size 576x432 with 1 Axes>"
      ]
     },
     "metadata": {},
     "output_type": "display_data"
    }
   ],
   "source": [
    "# Plot the average ROI by release month\n",
    "plt.figure(figsize=(10, 6))\n",
    "sns.barplot(x='release_month', y='ROI', data=roi_df, ci=None, palette='coolwarm')\n",
    "plt.title('Average ROI by Release Month')\n",
    "plt.xlabel('Release Month')\n",
    "plt.ylabel('Average ROI')\n",
    "plt.xticks(range(1, 13), ['Jan', 'Feb', 'Mar', 'Apr', 'May', 'Jun', 'Jul', 'Aug', 'Sep', 'Oct', 'Nov', 'Dec'])\n",
    "plt.show()\n",
    "\n",
    "# Plot the average ROI by release season\n",
    "plt.figure(figsize=(8, 6))\n",
    "sns.barplot(x='release_season', y='ROI', data=roi_df, ci=None, palette='pastel')\n",
    "plt.title('Average ROI by Release Season')\n",
    "plt.xlabel('Release Season')\n",
    "plt.ylabel('Average ROI')\n",
    "plt.show()\n"
   ]
  },
  {
   "cell_type": "markdown",
   "metadata": {},
   "source": [
    "Based on the average ROI values, we make the following observations;\n",
    "\n",
    "Movies released in the Summer season generally have the highest average ROI, indicating that this season might be more favorable for movie releases, possibly due to school vacations, holidays, and increased leisure time.\n",
    "\n",
    "The months of June and July seem particularly promising for higher returns on movie investments, as they have the highest average ROIs.\n",
    "\n",
    "The Winter season has the lowest average ROI, which could be attributed to factors like colder weather and holidays, which might affect moviegoing habits during this period."
   ]
  },
  {
   "cell_type": "markdown",
   "metadata": {},
   "source": [
    "### Effect of the release dates to the ROI over time\n",
    "\n",
    "I will be plotting a line plot that will where the x axis represents the release date of each movie, and the y-axis represents the ROI. This will allow us to observe how the ROI changes over time and whether there are any noticeable patterns or trends.\n",
    "\n",
    "Creating the Line Plot for ROI over Time:"
   ]
  },
  {
   "cell_type": "code",
   "execution_count": 48,
   "metadata": {},
   "outputs": [
    {
     "data": {
      "image/png": "[encoded data removed]",
      "text/plain": [
       "<Figure size 720x432 with 1 Axes>"
      ]
     },
     "metadata": {},
     "output_type": "display_data"
    }
   ],
   "source": [
    "# Convert the 'release_date' column to datetime\n",
    "roi_df['release_date'] = pd.to_datetime(roi_df['release_date'])\n",
    "\n",
    "# Sort the DataFrame by release_date in ascending order\n",
    "roi_df = roi_df.sort_values(by='release_date')\n",
    "\n",
    "# Create a line plot\n",
    "plt.figure(figsize=(10, 6))\n",
    "plt.plot(roi_df['release_date'], roi_df['ROI'], marker='o', linestyle='-')\n",
    "plt.xlabel('Release Date')\n",
    "plt.ylabel('ROI')\n",
    "plt.title('ROI Trend Over Release Date')\n",
    "plt.xticks(rotation=45)\n",
    "plt.grid(True)\n",
    "plt.show()\n"
   ]
  },
  {
   "cell_type": "markdown",
   "metadata": {},
   "source": [
    "This indicates that ROI has had fluctuations over the period of time with no clear trend. This suggests that the ROI varies over time without a consistent pattern. This could be due to external factors such as the economic conditions, changes in audience preferences or the success of indivindual movie releases."
   ]
  },
  {
   "cell_type": "markdown",
   "metadata": {},
   "source": [
    "# SUMMARY"
   ]
  },
  {
   "cell_type": "markdown",
   "metadata": {},
   "source": [
    "# Conclusion.\n",
    "Based on my findings, i was able to conclude on the following;\n",
    "1. The top three performing genres are Drama, Documentaries, and Comedy; with Drama being the most prefered to a larger population.\n",
    "2. The runtime of movies really did not affect the popularity or preference of the movies. This meant that the population preference was not fueled by the runtime.\n",
    "3. High of the revenues were achieved in the summer Season this is explained by the school vacations, holidays, and increased leisure time.\n",
    "4. The highest revenues by month were achieved in May, a month before Summer showing the preparations of many for the summer season.\n",
    "5. Other high revenues are seen in the Month of November where we know that the customers are also getting ready for the chrismas festivities. \n",
    "6. The revenues are extremely low in the months of January and September indicating that they are the busiest times for many customers with jobs, school, and othe things that take away leisure time.\n",
    "7. The ROI is not interfered whether the budget is increased or not. \n",
    "8. The ROI similar to the revenues is equally affected by the release months and seasons.\n",
    "9. Over time, the ROI has had fluctuations with no clear trend. This could be due to many external factors with the leading being the economic conditions, changes in audience prefereces or the success of indivindual movie releases.\n",
    "\n",
    "# Business Recommendations.\n",
    "After my conclusions, here are some of the recomendations that I can give to the company;\n",
    "\n",
    "1. **Focus on Drama, Documentaries, and Comedy Genres**: As Drama is the most preferred genre among the audience and Documentaries and Comedy also perform well, consider investing more resources and efforts in producing movies in these genres. They have proven to be popular choices and are likely to attract a larger audience.\n",
    "\n",
    "2. **Flexible Runtimes**: Since the runtime of movies did not significantly affect the popularity or preference, you have the flexibility to explore various runtime options based on the story and creative vision of each film. This allows for more creative freedom without worrying about runtime constraints.\n",
    "\n",
    "3. **Strategic Release Timing**: Plan your movie releases strategically to coincide with peak seasons, such as the summer months and November before Christmas. These periods tend to have higher revenues, driven by increased leisure time and holiday festivities. Consider scheduling major releases during these times to maximize box office success.\n",
    "\n",
    "4. **January and September Release Strategy**: Recognize that January and September are busy months for many customers, and the leisure time may be limited due to work and school commitments. Therefore, consider adjusting the release strategy during these months, focusing on genres that appeal to a more niche audience or smaller budget films.\n",
    "\n",
    "5. **Budget and ROI Management**: Since the ROI does not seem to be significantly affected by the budget, be cautious about overspending on production costs. Focus on optimizing budget allocation and ensure prudent financial management without compromising the quality of the films.\n",
    "\n",
    "6. **Adaptability to Market Fluctuations**: Recognize that the ROI has shown fluctuations over time, potentially influenced by various external factors. Stay agile and adaptable to changing market conditions, economic shifts, and audience preferences. Continuously monitor industry trends and adjust your film production and marketing strategies accordingly.\n",
    "\n",
    "\n",
    "By implementing these recommendations, Microsoft's new movie studio can make informed decisions and position itself for success in the dynamic and competitive movie industry."
   ]
  }
 ],
 "metadata": {
  "kernelspec": {
   "display_name": "Python (learn-env)",
   "language": "python",
   "name": "learn-env"
  },
  "language_info": {
   "codemirror_mode": {
    "name": "ipython",
    "version": 3
   },
   "file_extension": ".py",
   "mimetype": "text/x-python",
   "name": "python",
   "nbconvert_exporter": "python",
   "pygments_lexer": "ipython3",
   "version": "3.8.5"
  }
 },
 "nbformat": 4,
 "nbformat_minor": 2
}
